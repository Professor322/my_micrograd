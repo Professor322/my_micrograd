{
 "cells": [
  {
   "cell_type": "code",
   "execution_count": 2,
   "metadata": {},
   "outputs": [],
   "source": [
    "import graphviz\n",
    "import matplotlib.pyplot as plt"
   ]
  },
  {
   "cell_type": "code",
   "execution_count": 3,
   "metadata": {},
   "outputs": [],
   "source": [
    "class Value:\n",
    "    # children = ()  is an empty tuple\n",
    "    def __init__(self, data, op = '', children = ()):\n",
    "        self.data = data\n",
    "        self.grad = 0\n",
    "        #underscore means that variable is for internal use\n",
    "        self._op = op\n",
    "        # create set out of incoming children, so we will not duplicate\n",
    "        # in case of same variable used twice in the arithmetic operation i.e (x * x)\n",
    "        self._children = set(children)\n",
    "        self._backward = lambda : None\n",
    "\n",
    "    def __add__(self, other):\n",
    "        other = other if isinstance(other, Value) else  Value(other)\n",
    "        result = Value(self.data + other.data, '+', (self, other))\n",
    "        def _backward():\n",
    "            self.grad = result.grad * 1\n",
    "            other.grad = result.grad * 1\n",
    "\n",
    "        result._backward = _backward\n",
    "        return result\n",
    "\n",
    "    def __mul__(self, other):\n",
    "        other = other if isinstance(other, Value) else  Value(other)\n",
    "        result = Value(self.data * other.data, '*', (self, other))\n",
    "        def _backward():\n",
    "            self.grad = other.data * result.grad\n",
    "            other.grad = self.data * result.grad\n",
    "        result._backward = _backward\n",
    "        return result\n",
    "    \n",
    "    def __pow__(self, other):\n",
    "        result = Value(self.data ** other.data, f'**{other}', (self, other))\n",
    "        def _backward():\n",
    "            self.grad = other.data * self.data ** (other.data - 1) * result.grad\n",
    "\n",
    "        result._backward = _backward\n",
    "        return result\n",
    "    \n",
    "    def __truediv__(self, other):\n",
    "        return self * other ** -1\n",
    "    \n",
    "    def __neg__(self, other):\n",
    "        return self * -1\n",
    "\n",
    "    def __sub__(self, other):\n",
    "        return self * -other\n",
    "        \n",
    "\n",
    "    def __repr__(self):\n",
    "        return f'Value(data:{self.data}, grad:{self.grad})'"
   ]
  },
  {
   "cell_type": "code",
   "execution_count": 4,
   "metadata": {},
   "outputs": [
    {
     "name": "stdout",
     "output_type": "stream",
     "text": [
      "Value(data:9, grad:0)\n"
     ]
    }
   ],
   "source": [
    "x = Value(5)\n",
    "y = Value(6)\n",
    "z = Value(4)\n",
    "\n",
    "xz = x + z # 11\n",
    "xzy = xz + y # 15\n",
    "print(xz)\n",
    "#       xzy \n",
    "#        +  \n",
    "#     /        \\\n",
    "#    +          y\n",
    "#   / \\\n",
    "#  x   z\n",
    "\n",
    "\n",
    "\n",
    "\n"
   ]
  },
  {
   "cell_type": "code",
   "execution_count": 134,
   "metadata": {},
   "outputs": [],
   "source": [
    "# initially this function was supposed to print graph\n",
    "# without graphviz, that is why BFS is used here\n",
    "# but after adding graphviz visualization there is no \n",
    "# difference which traversal to use\n",
    "def ValueBFS(value):\n",
    "    assert isinstance(value, Value), \"Incorrect argument\"\n",
    "\n",
    "    dag = graphviz.Digraph(comment = \"Expression tree\")\n",
    "    # store in list (node, parent_id)\n",
    "    list = [(value, -1)]\n",
    "    visited_nodes_dict = {}\n",
    "    visited_edges = set()\n",
    "    node_id = 0\n",
    "    while (len(list)):\n",
    "        fixed_len = len(list)\n",
    "        for _ in range(0, fixed_len):\n",
    "            curr_value, parent_id = list.pop(0)\n",
    "            \n",
    "            # create a node with unique identifier\n",
    "            curr_value_id = node_id; node_id += 1\n",
    "            if not (curr_value in visited_nodes_dict): \n",
    "                visited_nodes_dict[curr_value] = curr_value_id\n",
    "                dag.node(str(curr_value_id), str(curr_value))\n",
    "            else:\n",
    "                curr_value_id = visited_nodes_dict.get(curr_value)\n",
    "                        \n",
    "            op_id = -1\n",
    "            if curr_value._op != '':\n",
    "                op_id = node_id; node_id += 1\n",
    "                dag.node(str(op_id), curr_value._op)\n",
    "                dag.edge(str(op_id), str(curr_value_id))\n",
    "                visited_edges.add((op_id, curr_value_id))\n",
    "            \n",
    "           \n",
    "            if parent_id != -1:\n",
    "                dag.edge(str(curr_value_id), str(parent_id))\n",
    "                visited_edges.add((curr_value_id, parent_id))\n",
    "\n",
    "            new_parent_id = op_id if op_id != -1 else curr_value_id \n",
    "            for child in curr_value._children:\n",
    "                if child in visited_nodes_dict:\n",
    "                    v = visited_nodes_dict.get(child)\n",
    "                    u = new_parent_id\n",
    "                    if (u, v) in visited_edges:\n",
    "                        continue\n",
    "                list.append((child, new_parent_id))\n",
    "            \n",
    "    display(dag)\n",
    "\n",
    "\n"
   ]
  },
  {
   "cell_type": "code",
   "execution_count": 135,
   "metadata": {},
   "outputs": [
    {
     "data": {
      "image/svg+xml": "<?xml version=\"1.0\" encoding=\"UTF-8\" standalone=\"no\"?>\n<!DOCTYPE svg PUBLIC \"-//W3C//DTD SVG 1.1//EN\"\n \"http://www.w3.org/Graphics/SVG/1.1/DTD/svg11.dtd\">\n<!-- Generated by graphviz version 2.43.0 (0)\n -->\n<!-- Title: %3 Pages: 1 -->\n<svg width=\"485pt\" height=\"620pt\"\n viewBox=\"0.00 0.00 485.08 620.00\" xmlns=\"http://www.w3.org/2000/svg\" xmlns:xlink=\"http://www.w3.org/1999/xlink\">\n<g id=\"graph0\" class=\"graph\" transform=\"scale(1 1) rotate(0) translate(4 616)\">\n<title>%3</title>\n<polygon fill=\"white\" stroke=\"transparent\" points=\"-4,4 -4,-616 481.08,-616 481.08,4 -4,4\"/>\n<!-- 0 -->\n<g id=\"node1\" class=\"node\">\n<title>0</title>\n<ellipse fill=\"none\" stroke=\"black\" cx=\"310.54\" cy=\"-18\" rx=\"120.48\" ry=\"18\"/>\n<text text-anchor=\"middle\" x=\"310.54\" y=\"-14.3\" font-family=\"Times,serif\" font-size=\"14.00\">Value(data:576, grad:0)</text>\n</g>\n<!-- 1 -->\n<g id=\"node2\" class=\"node\">\n<title>1</title>\n<ellipse fill=\"none\" stroke=\"black\" cx=\"310.54\" cy=\"-90\" rx=\"27\" ry=\"18\"/>\n<text text-anchor=\"middle\" x=\"310.54\" y=\"-86.3\" font-family=\"Times,serif\" font-size=\"14.00\">*</text>\n</g>\n<!-- 1&#45;&gt;0 -->\n<g id=\"edge1\" class=\"edge\">\n<title>1&#45;&gt;0</title>\n<path fill=\"none\" stroke=\"black\" d=\"M310.54,-71.7C310.54,-63.98 310.54,-54.71 310.54,-46.11\"/>\n<polygon fill=\"black\" stroke=\"black\" points=\"314.04,-46.1 310.54,-36.1 307.04,-46.1 314.04,-46.1\"/>\n</g>\n<!-- 2 -->\n<g id=\"node3\" class=\"node\">\n<title>2</title>\n<ellipse fill=\"none\" stroke=\"black\" cx=\"236.54\" cy=\"-162\" rx=\"120.48\" ry=\"18\"/>\n<text text-anchor=\"middle\" x=\"236.54\" y=\"-158.3\" font-family=\"Times,serif\" font-size=\"14.00\">Value(data:192, grad:0)</text>\n</g>\n<!-- 2&#45;&gt;1 -->\n<g id=\"edge3\" class=\"edge\">\n<title>2&#45;&gt;1</title>\n<path fill=\"none\" stroke=\"black\" d=\"M254.45,-144.05C264.5,-134.55 277.14,-122.59 287.88,-112.44\"/>\n<polygon fill=\"black\" stroke=\"black\" points=\"290.43,-114.84 295.29,-105.42 285.62,-109.75 290.43,-114.84\"/>\n</g>\n<!-- 3 -->\n<g id=\"node4\" class=\"node\">\n<title>3</title>\n<ellipse fill=\"none\" stroke=\"black\" cx=\"228.54\" cy=\"-234\" rx=\"27\" ry=\"18\"/>\n<text text-anchor=\"middle\" x=\"228.54\" y=\"-230.3\" font-family=\"Times,serif\" font-size=\"14.00\">*</text>\n</g>\n<!-- 3&#45;&gt;2 -->\n<g id=\"edge2\" class=\"edge\">\n<title>3&#45;&gt;2</title>\n<path fill=\"none\" stroke=\"black\" d=\"M230.52,-215.7C231.4,-207.98 232.46,-198.71 233.44,-190.11\"/>\n<polygon fill=\"black\" stroke=\"black\" points=\"236.93,-190.44 234.59,-180.1 229.97,-189.64 236.93,-190.44\"/>\n</g>\n<!-- 4 -->\n<g id=\"node5\" class=\"node\">\n<title>4</title>\n<ellipse fill=\"none\" stroke=\"black\" cx=\"368.54\" cy=\"-594\" rx=\"108.58\" ry=\"18\"/>\n<text text-anchor=\"middle\" x=\"368.54\" y=\"-590.3\" font-family=\"Times,serif\" font-size=\"14.00\">Value(data:3, grad:0)</text>\n</g>\n<!-- 4&#45;&gt;1 -->\n<g id=\"edge4\" class=\"edge\">\n<title>4&#45;&gt;1</title>\n<path fill=\"none\" stroke=\"black\" d=\"M373.4,-575.67C380.41,-549.08 392.54,-496.5 392.54,-451 392.54,-451 392.54,-451 392.54,-233 392.54,-191.66 387.12,-179.26 365.54,-144 357.76,-131.29 346.22,-119.53 335.71,-110.33\"/>\n<polygon fill=\"black\" stroke=\"black\" points=\"337.87,-107.57 327.96,-103.82 333.37,-112.93 337.87,-107.57\"/>\n</g>\n<!-- 10 -->\n<g id=\"node10\" class=\"node\">\n<title>10</title>\n<ellipse fill=\"none\" stroke=\"black\" cx=\"250.54\" cy=\"-522\" rx=\"27\" ry=\"18\"/>\n<text text-anchor=\"middle\" x=\"250.54\" y=\"-518.3\" font-family=\"Times,serif\" font-size=\"14.00\">*</text>\n</g>\n<!-- 4&#45;&gt;10 -->\n<g id=\"edge12\" class=\"edge\">\n<title>4&#45;&gt;10</title>\n<path fill=\"none\" stroke=\"black\" d=\"M340.87,-576.59C322.26,-565.54 297.78,-551.02 279,-539.88\"/>\n<polygon fill=\"black\" stroke=\"black\" points=\"280.68,-536.81 270.29,-534.72 277.1,-542.83 280.68,-536.81\"/>\n</g>\n<!-- 5 -->\n<g id=\"node6\" class=\"node\">\n<title>5</title>\n<ellipse fill=\"none\" stroke=\"black\" cx=\"108.54\" cy=\"-594\" rx=\"108.58\" ry=\"18\"/>\n<text text-anchor=\"middle\" x=\"108.54\" y=\"-590.3\" font-family=\"Times,serif\" font-size=\"14.00\">Value(data:4, grad:0)</text>\n</g>\n<!-- 5&#45;&gt;3 -->\n<g id=\"edge5\" class=\"edge\">\n<title>5&#45;&gt;3</title>\n<path fill=\"none\" stroke=\"black\" d=\"M100.85,-575.91C89.75,-549.62 70.54,-497.45 70.54,-451 70.54,-451 70.54,-451 70.54,-377 70.54,-334.5 75.97,-318.53 105.54,-288 129.06,-263.71 165.55,-249.91 192.69,-242.53\"/>\n<polygon fill=\"black\" stroke=\"black\" points=\"193.76,-245.87 202.58,-240 192.02,-239.08 193.76,-245.87\"/>\n</g>\n<!-- 7 -->\n<g id=\"node8\" class=\"node\">\n<title>7</title>\n<ellipse fill=\"none\" stroke=\"black\" cx=\"228.54\" cy=\"-378\" rx=\"27\" ry=\"18\"/>\n<text text-anchor=\"middle\" x=\"228.54\" y=\"-374.3\" font-family=\"Times,serif\" font-size=\"14.00\">*</text>\n</g>\n<!-- 5&#45;&gt;7 -->\n<g id=\"edge8\" class=\"edge\">\n<title>5&#45;&gt;7</title>\n<path fill=\"none\" stroke=\"black\" d=\"M105.7,-575.7C101.49,-544.11 97.08,-476.29 127.54,-432 142.99,-409.54 171.02,-395.92 193.64,-388.11\"/>\n<polygon fill=\"black\" stroke=\"black\" points=\"194.81,-391.41 203.26,-385.02 192.67,-384.75 194.81,-391.41\"/>\n</g>\n<!-- 5&#45;&gt;10 -->\n<g id=\"edge11\" class=\"edge\">\n<title>5&#45;&gt;10</title>\n<path fill=\"none\" stroke=\"black\" d=\"M141.47,-576.76C165.24,-565.05 197.08,-549.35 220.22,-537.95\"/>\n<polygon fill=\"black\" stroke=\"black\" points=\"221.82,-541.06 229.24,-533.5 218.73,-534.78 221.82,-541.06\"/>\n</g>\n<!-- 6 -->\n<g id=\"node7\" class=\"node\">\n<title>6</title>\n<ellipse fill=\"none\" stroke=\"black\" cx=\"228.54\" cy=\"-306\" rx=\"114.28\" ry=\"18\"/>\n<text text-anchor=\"middle\" x=\"228.54\" y=\"-302.3\" font-family=\"Times,serif\" font-size=\"14.00\">Value(data:48, grad:0)</text>\n</g>\n<!-- 6&#45;&gt;3 -->\n<g id=\"edge7\" class=\"edge\">\n<title>6&#45;&gt;3</title>\n<path fill=\"none\" stroke=\"black\" d=\"M228.54,-287.7C228.54,-279.98 228.54,-270.71 228.54,-262.11\"/>\n<polygon fill=\"black\" stroke=\"black\" points=\"232.04,-262.1 228.54,-252.1 225.04,-262.1 232.04,-262.1\"/>\n</g>\n<!-- 7&#45;&gt;6 -->\n<g id=\"edge6\" class=\"edge\">\n<title>7&#45;&gt;6</title>\n<path fill=\"none\" stroke=\"black\" d=\"M228.54,-359.7C228.54,-351.98 228.54,-342.71 228.54,-334.11\"/>\n<polygon fill=\"black\" stroke=\"black\" points=\"232.04,-334.1 228.54,-324.1 225.04,-334.1 232.04,-334.1\"/>\n</g>\n<!-- 9 -->\n<g id=\"node9\" class=\"node\">\n<title>9</title>\n<ellipse fill=\"none\" stroke=\"black\" cx=\"250.54\" cy=\"-450\" rx=\"114.28\" ry=\"18\"/>\n<text text-anchor=\"middle\" x=\"250.54\" y=\"-446.3\" font-family=\"Times,serif\" font-size=\"14.00\">Value(data:12, grad:0)</text>\n</g>\n<!-- 9&#45;&gt;7 -->\n<g id=\"edge10\" class=\"edge\">\n<title>9&#45;&gt;7</title>\n<path fill=\"none\" stroke=\"black\" d=\"M245.1,-431.7C242.65,-423.9 239.7,-414.51 236.97,-405.83\"/>\n<polygon fill=\"black\" stroke=\"black\" points=\"240.25,-404.59 233.92,-396.1 233.58,-406.69 240.25,-404.59\"/>\n</g>\n<!-- 10&#45;&gt;9 -->\n<g id=\"edge9\" class=\"edge\">\n<title>10&#45;&gt;9</title>\n<path fill=\"none\" stroke=\"black\" d=\"M250.54,-503.7C250.54,-495.98 250.54,-486.71 250.54,-478.11\"/>\n<polygon fill=\"black\" stroke=\"black\" points=\"254.04,-478.1 250.54,-468.1 247.04,-478.1 254.04,-478.1\"/>\n</g>\n</g>\n</svg>\n",
      "text/plain": [
       "<graphviz.graphs.Digraph at 0x7feb70803c40>"
      ]
     },
     "metadata": {},
     "output_type": "display_data"
    }
   ],
   "source": [
    "x = Value(3)\n",
    "y = Value(4)\n",
    "z = Value(5)\n",
    "\n",
    "xy =  x * y # 12\n",
    "\n",
    "#        48  192\n",
    "zxyy = xy * y * y * x\n",
    "\n",
    "zxyyy = zxyy * y\n",
    " \n",
    "ValueBFS(zxyy)"
   ]
  },
  {
   "attachments": {},
   "cell_type": "markdown",
   "metadata": {},
   "source": [
    "# What is a neuron?\n",
    "    Mathematical model of neuron is a function that takes as an input arbitrary X (vector of the input values) and multiples it by W (vector of the neuron weights) and adds bias (B). W and B are configurable parts of the neuron. To adjust or normalalize the output of the computed values, the result (X * W + B) goes through activation function. (i.e tanh)\n",
    "\n",
    "    F(X) = X * W + B -> tanh(F(X)) (or any other activaiton function) \n",
    "\n",
    "    To understand the impact of configurable parameters, we need to look at derivatives with respect to each parameter. dWi/df\n",
    "\n",
    "    Derivatives measure the senstivity to change of the function value with respect to a change in its argument. (f(x + h) - f(x)) / h"
   ]
  },
  {
   "cell_type": "code",
   "execution_count": 7,
   "metadata": {},
   "outputs": [
    {
     "data": {
      "image/png": "[encoded data removed]",
      "text/plain": [
       "<Figure size 640x480 with 1 Axes>"
      ]
     },
     "metadata": {},
     "output_type": "display_data"
    }
   ],
   "source": [
    "# calculating derrivatives of function\n",
    "def f(x):\n",
    "    return x ** 2\n",
    "\n",
    "# derivative is a slope, instantaneous rate of change \n",
    "def derivative_f(x):\n",
    "    h = 0.001\n",
    "    return ( f(x + h) - f(x) ) / h\n",
    "\n",
    "\n",
    "x = range(-100, 100)\n",
    "y = []\n",
    "for i in x:\n",
    "    y.append(f(i))\n",
    "\n",
    "\n",
    "# plot function\n",
    "fig, ax = plt.subplots()\n",
    "ax.plot(x, y)\n",
    "# plot derivative in the fixed point\n",
    "x_fixed = 0\n",
    "slope = derivative_f(x_fixed)\n",
    "y_der = []\n",
    "def derivative_line(slope, x):\n",
    "    return slope * x\n",
    "for i in range(-100, 100):\n",
    "    y_der.append(derivative_line(slope, i))\n",
    "ax.plot(x, y_der)\n",
    "plt.show()\n",
    "\n",
    "# knowing derivative of the function we can manipulate the output of the function \n",
    "# if derivative with respect to input x is positive, then  by increasing x function will grow\n",
    "# if derivative with respect to input x is negative, then by increasing x function will go down\n",
    "# knowing the target value we can manipulate parameters to get the closet possible result\n",
    "\n"
   ]
  },
  {
   "cell_type": "code",
   "execution_count": 8,
   "metadata": {},
   "outputs": [
    {
     "data": {
      "image/svg+xml": "<?xml version=\"1.0\" encoding=\"UTF-8\" standalone=\"no\"?>\n<!DOCTYPE svg PUBLIC \"-//W3C//DTD SVG 1.1//EN\"\n \"http://www.w3.org/Graphics/SVG/1.1/DTD/svg11.dtd\">\n<!-- Generated by graphviz version 2.43.0 (0)\n -->\n<!-- Title: %3 Pages: 1 -->\n<svg width=\"578pt\" height=\"332pt\"\n viewBox=\"0.00 0.00 578.08 332.00\" xmlns=\"http://www.w3.org/2000/svg\" xmlns:xlink=\"http://www.w3.org/1999/xlink\">\n<g id=\"graph0\" class=\"graph\" transform=\"scale(1 1) rotate(0) translate(4 328)\">\n<title>%3</title>\n<polygon fill=\"white\" stroke=\"transparent\" points=\"-4,4 -4,-328 574.08,-328 574.08,4 -4,4\"/>\n<!-- 0 -->\n<g id=\"node1\" class=\"node\">\n<title>0</title>\n<ellipse fill=\"none\" stroke=\"black\" cx=\"225.54\" cy=\"-18\" rx=\"114.28\" ry=\"18\"/>\n<text text-anchor=\"middle\" x=\"225.54\" y=\"-14.3\" font-family=\"Times,serif\" font-size=\"14.00\">Value(data:15, grad:0)</text>\n</g>\n<!-- 1 -->\n<g id=\"node2\" class=\"node\">\n<title>1</title>\n<ellipse fill=\"none\" stroke=\"black\" cx=\"225.54\" cy=\"-90\" rx=\"27\" ry=\"18\"/>\n<text text-anchor=\"middle\" x=\"225.54\" y=\"-86.3\" font-family=\"Times,serif\" font-size=\"14.00\">+</text>\n</g>\n<!-- 1&#45;&gt;0 -->\n<g id=\"edge1\" class=\"edge\">\n<title>1&#45;&gt;0</title>\n<path fill=\"none\" stroke=\"black\" d=\"M225.54,-71.7C225.54,-63.98 225.54,-54.71 225.54,-46.11\"/>\n<polygon fill=\"black\" stroke=\"black\" points=\"229.04,-46.1 225.54,-36.1 222.04,-46.1 229.04,-46.1\"/>\n</g>\n<!-- 2 -->\n<g id=\"node3\" class=\"node\">\n<title>2</title>\n<ellipse fill=\"none\" stroke=\"black\" cx=\"108.54\" cy=\"-162\" rx=\"108.58\" ry=\"18\"/>\n<text text-anchor=\"middle\" x=\"108.54\" y=\"-158.3\" font-family=\"Times,serif\" font-size=\"14.00\">Value(data:6, grad:0)</text>\n</g>\n<!-- 2&#45;&gt;1 -->\n<g id=\"edge2\" class=\"edge\">\n<title>2&#45;&gt;1</title>\n<path fill=\"none\" stroke=\"black\" d=\"M136.27,-144.41C154.73,-133.36 178.92,-118.89 197.46,-107.8\"/>\n<polygon fill=\"black\" stroke=\"black\" points=\"199.27,-110.79 206.06,-102.66 195.68,-104.79 199.27,-110.79\"/>\n</g>\n<!-- 3 -->\n<g id=\"node4\" class=\"node\">\n<title>3</title>\n<ellipse fill=\"none\" stroke=\"black\" cx=\"343.54\" cy=\"-162\" rx=\"108.58\" ry=\"18\"/>\n<text text-anchor=\"middle\" x=\"343.54\" y=\"-158.3\" font-family=\"Times,serif\" font-size=\"14.00\">Value(data:9, grad:0)</text>\n</g>\n<!-- 3&#45;&gt;1 -->\n<g id=\"edge4\" class=\"edge\">\n<title>3&#45;&gt;1</title>\n<path fill=\"none\" stroke=\"black\" d=\"M315.87,-144.59C297.26,-133.54 272.78,-119.02 254,-107.88\"/>\n<polygon fill=\"black\" stroke=\"black\" points=\"255.68,-104.81 245.29,-102.72 252.1,-110.83 255.68,-104.81\"/>\n</g>\n<!-- 4 -->\n<g id=\"node5\" class=\"node\">\n<title>4</title>\n<ellipse fill=\"none\" stroke=\"black\" cx=\"343.54\" cy=\"-234\" rx=\"27\" ry=\"18\"/>\n<text text-anchor=\"middle\" x=\"343.54\" y=\"-230.3\" font-family=\"Times,serif\" font-size=\"14.00\">+</text>\n</g>\n<!-- 4&#45;&gt;3 -->\n<g id=\"edge3\" class=\"edge\">\n<title>4&#45;&gt;3</title>\n<path fill=\"none\" stroke=\"black\" d=\"M343.54,-215.7C343.54,-207.98 343.54,-198.71 343.54,-190.11\"/>\n<polygon fill=\"black\" stroke=\"black\" points=\"347.04,-190.1 343.54,-180.1 340.04,-190.1 347.04,-190.1\"/>\n</g>\n<!-- 5 -->\n<g id=\"node6\" class=\"node\">\n<title>5</title>\n<ellipse fill=\"none\" stroke=\"black\" cx=\"226.54\" cy=\"-306\" rx=\"108.58\" ry=\"18\"/>\n<text text-anchor=\"middle\" x=\"226.54\" y=\"-302.3\" font-family=\"Times,serif\" font-size=\"14.00\">Value(data:5, grad:0)</text>\n</g>\n<!-- 5&#45;&gt;4 -->\n<g id=\"edge5\" class=\"edge\">\n<title>5&#45;&gt;4</title>\n<path fill=\"none\" stroke=\"black\" d=\"M254.27,-288.41C272.73,-277.36 296.92,-262.89 315.46,-251.8\"/>\n<polygon fill=\"black\" stroke=\"black\" points=\"317.27,-254.79 324.06,-246.66 313.68,-248.79 317.27,-254.79\"/>\n</g>\n<!-- 6 -->\n<g id=\"node7\" class=\"node\">\n<title>6</title>\n<ellipse fill=\"none\" stroke=\"black\" cx=\"461.54\" cy=\"-306\" rx=\"108.58\" ry=\"18\"/>\n<text text-anchor=\"middle\" x=\"461.54\" y=\"-302.3\" font-family=\"Times,serif\" font-size=\"14.00\">Value(data:4, grad:0)</text>\n</g>\n<!-- 6&#45;&gt;4 -->\n<g id=\"edge6\" class=\"edge\">\n<title>6&#45;&gt;4</title>\n<path fill=\"none\" stroke=\"black\" d=\"M433.87,-288.59C415.26,-277.54 390.78,-263.02 372,-251.88\"/>\n<polygon fill=\"black\" stroke=\"black\" points=\"373.68,-248.81 363.29,-246.72 370.1,-254.83 373.68,-248.81\"/>\n</g>\n</g>\n</svg>\n",
      "text/plain": [
       "<graphviz.graphs.Digraph at 0x7feb7b789780>"
      ]
     },
     "metadata": {},
     "output_type": "display_data"
    }
   ],
   "source": [
    "x = Value(5)\n",
    "y = Value(6)\n",
    "z = Value(4)\n",
    "\n",
    "xz = x + z # 11\n",
    "xzy = xz + y # 15\n",
    "#       xzy \n",
    "#        +  \n",
    "#     /        \\\n",
    "#    +          y\n",
    "#   / \\\n",
    "#  x   z\n",
    "\n",
    "ValueBFS(xzy)\n",
    "\n",
    "\n",
    "\n",
    "\n"
   ]
  },
  {
   "cell_type": "code",
   "execution_count": 9,
   "metadata": {},
   "outputs": [
    {
     "data": {
      "text/plain": [
       "4.000000000006224"
      ]
     },
     "execution_count": 9,
     "metadata": {},
     "output_type": "execute_result"
    }
   ],
   "source": [
    "x = 5\n",
    "y = 6\n",
    "z = 4\n",
    "x_plus_z = x * z\n",
    "g = x_plus_z + y\n",
    "\n",
    "h = 0.001\n",
    "\n",
    "# how y contributes to y contirbutes to g?\n",
    "(x_plus_z + y + h - g )/ h\n",
    "# that means if we slightly increase y, g will increase proportionally\n",
    "\n",
    "# how x contributes to g?\n",
    "\n",
    "# firstly, we need to calculate how x_plus_z contributes to g\n",
    "# then calculate how x contributes to x_plus_z\n",
    "# then multiply 2 results. Intuitively, with the first part we measure overall contribution by\n",
    "# x_plus_z, then we scale it by single contribution of x\n",
    "\n",
    "d_g_d_x_plus_z = (x_plus_z + h + y - g) / h\n",
    "\n",
    "d_x_plus_z_d_x = (((x + h) * z) - x_plus_z) / h\n",
    "d_x_plus_z_d_x * d_g_d_x_plus_z\n"
   ]
  },
  {
   "cell_type": "code",
   "execution_count": 10,
   "metadata": {},
   "outputs": [],
   "source": [
    "# calculate gradient manually\n",
    "\n",
    "# create a function\n",
    "x = Value(5)\n",
    "g = Value(10)\n",
    "xg = x * g\n",
    "y = Value(10)\n",
    "u = Value(3)\n",
    "yu = y * u\n",
    "z = yu + xg\n",
    "\n",
    "v = Value(2)\n",
    "res = z * v\n",
    "\n",
    "\n",
    "# manual backward pass\n",
    "res.grad = 1\n",
    "\n",
    "# 1\n",
    "v.grad = z.data * res.grad\n",
    "z.grad = v.data * res.grad\n",
    "\n",
    "# 2\n",
    "yu.grad = z.grad * 1\n",
    "xg.grad = z.grad * 1\n",
    "\n",
    "# 3\n",
    "y.grad = u.data * yu.grad\n",
    "u.grad = y.data * yu.grad\n",
    "\n",
    "# 4\n",
    "x.grad = xg.grad * g.data\n",
    "g.grad = xg.grad * x.data\n",
    "\n",
    "parameters = [x, g, xg, y, u, yu, z, v, res]\n"
   ]
  },
  {
   "cell_type": "code",
   "execution_count": 11,
   "metadata": {},
   "outputs": [
    {
     "data": {
      "image/svg+xml": "<?xml version=\"1.0\" encoding=\"UTF-8\" standalone=\"no\"?>\n<!DOCTYPE svg PUBLIC \"-//W3C//DTD SVG 1.1//EN\"\n \"http://www.w3.org/Graphics/SVG/1.1/DTD/svg11.dtd\">\n<!-- Generated by graphviz version 2.43.0 (0)\n -->\n<!-- Title: %3 Pages: 1 -->\n<svg width=\"990pt\" height=\"476pt\"\n viewBox=\"0.00 0.00 989.78 476.00\" xmlns=\"http://www.w3.org/2000/svg\" xmlns:xlink=\"http://www.w3.org/1999/xlink\">\n<g id=\"graph0\" class=\"graph\" transform=\"scale(1 1) rotate(0) translate(4 472)\">\n<title>%3</title>\n<polygon fill=\"white\" stroke=\"transparent\" points=\"-4,4 -4,-472 985.78,-472 985.78,4 -4,4\"/>\n<!-- 0 -->\n<g id=\"node1\" class=\"node\">\n<title>0</title>\n<ellipse fill=\"none\" stroke=\"black\" cx=\"368.39\" cy=\"-18\" rx=\"120.48\" ry=\"18\"/>\n<text text-anchor=\"middle\" x=\"368.39\" y=\"-14.3\" font-family=\"Times,serif\" font-size=\"14.00\">Value(data:160, grad:1)</text>\n</g>\n<!-- 1 -->\n<g id=\"node2\" class=\"node\">\n<title>1</title>\n<ellipse fill=\"none\" stroke=\"black\" cx=\"368.39\" cy=\"-90\" rx=\"27\" ry=\"18\"/>\n<text text-anchor=\"middle\" x=\"368.39\" y=\"-86.3\" font-family=\"Times,serif\" font-size=\"14.00\">*</text>\n</g>\n<!-- 1&#45;&gt;0 -->\n<g id=\"edge1\" class=\"edge\">\n<title>1&#45;&gt;0</title>\n<path fill=\"none\" stroke=\"black\" d=\"M368.39,-71.7C368.39,-63.98 368.39,-54.71 368.39,-46.11\"/>\n<polygon fill=\"black\" stroke=\"black\" points=\"371.89,-46.1 368.39,-36.1 364.89,-46.1 371.89,-46.1\"/>\n</g>\n<!-- 2 -->\n<g id=\"node3\" class=\"node\">\n<title>2</title>\n<ellipse fill=\"none\" stroke=\"black\" cx=\"245.39\" cy=\"-162\" rx=\"114.28\" ry=\"18\"/>\n<text text-anchor=\"middle\" x=\"245.39\" y=\"-158.3\" font-family=\"Times,serif\" font-size=\"14.00\">Value(data:2, grad:80)</text>\n</g>\n<!-- 2&#45;&gt;1 -->\n<g id=\"edge2\" class=\"edge\">\n<title>2&#45;&gt;1</title>\n<path fill=\"none\" stroke=\"black\" d=\"M274.54,-144.41C294.16,-133.24 319.93,-118.58 339.5,-107.44\"/>\n<polygon fill=\"black\" stroke=\"black\" points=\"341.33,-110.43 348.29,-102.44 337.86,-104.35 341.33,-110.43\"/>\n</g>\n<!-- 3 -->\n<g id=\"node4\" class=\"node\">\n<title>3</title>\n<ellipse fill=\"none\" stroke=\"black\" cx=\"492.39\" cy=\"-162\" rx=\"114.28\" ry=\"18\"/>\n<text text-anchor=\"middle\" x=\"492.39\" y=\"-158.3\" font-family=\"Times,serif\" font-size=\"14.00\">Value(data:80, grad:2)</text>\n</g>\n<!-- 3&#45;&gt;1 -->\n<g id=\"edge4\" class=\"edge\">\n<title>3&#45;&gt;1</title>\n<path fill=\"none\" stroke=\"black\" d=\"M463.32,-144.59C443.42,-133.36 417.15,-118.52 397.29,-107.31\"/>\n<polygon fill=\"black\" stroke=\"black\" points=\"398.81,-104.15 388.38,-102.29 395.37,-110.25 398.81,-104.15\"/>\n</g>\n<!-- 4 -->\n<g id=\"node5\" class=\"node\">\n<title>4</title>\n<ellipse fill=\"none\" stroke=\"black\" cx=\"492.39\" cy=\"-234\" rx=\"27\" ry=\"18\"/>\n<text text-anchor=\"middle\" x=\"492.39\" y=\"-230.3\" font-family=\"Times,serif\" font-size=\"14.00\">+</text>\n</g>\n<!-- 4&#45;&gt;3 -->\n<g id=\"edge3\" class=\"edge\">\n<title>4&#45;&gt;3</title>\n<path fill=\"none\" stroke=\"black\" d=\"M492.39,-215.7C492.39,-207.98 492.39,-198.71 492.39,-190.11\"/>\n<polygon fill=\"black\" stroke=\"black\" points=\"495.89,-190.1 492.39,-180.1 488.89,-190.1 495.89,-190.1\"/>\n</g>\n<!-- 5 -->\n<g id=\"node6\" class=\"node\">\n<title>5</title>\n<ellipse fill=\"none\" stroke=\"black\" cx=\"369.39\" cy=\"-306\" rx=\"114.28\" ry=\"18\"/>\n<text text-anchor=\"middle\" x=\"369.39\" y=\"-302.3\" font-family=\"Times,serif\" font-size=\"14.00\">Value(data:50, grad:2)</text>\n</g>\n<!-- 5&#45;&gt;4 -->\n<g id=\"edge6\" class=\"edge\">\n<title>5&#45;&gt;4</title>\n<path fill=\"none\" stroke=\"black\" d=\"M398.54,-288.41C418.16,-277.24 443.93,-262.58 463.5,-251.44\"/>\n<polygon fill=\"black\" stroke=\"black\" points=\"465.33,-254.43 472.29,-246.44 461.86,-248.35 465.33,-254.43\"/>\n</g>\n<!-- 6 -->\n<g id=\"node7\" class=\"node\">\n<title>6</title>\n<ellipse fill=\"none\" stroke=\"black\" cx=\"367.39\" cy=\"-378\" rx=\"27\" ry=\"18\"/>\n<text text-anchor=\"middle\" x=\"367.39\" y=\"-374.3\" font-family=\"Times,serif\" font-size=\"14.00\">*</text>\n</g>\n<!-- 6&#45;&gt;5 -->\n<g id=\"edge5\" class=\"edge\">\n<title>6&#45;&gt;5</title>\n<path fill=\"none\" stroke=\"black\" d=\"M367.88,-359.7C368.1,-351.98 368.37,-342.71 368.62,-334.11\"/>\n<polygon fill=\"black\" stroke=\"black\" points=\"372.11,-334.2 368.9,-324.1 365.12,-334 372.11,-334.2\"/>\n</g>\n<!-- 7 -->\n<g id=\"node8\" class=\"node\">\n<title>7</title>\n<ellipse fill=\"none\" stroke=\"black\" cx=\"114.39\" cy=\"-450\" rx=\"114.28\" ry=\"18\"/>\n<text text-anchor=\"middle\" x=\"114.39\" y=\"-446.3\" font-family=\"Times,serif\" font-size=\"14.00\">Value(data:5, grad:20)</text>\n</g>\n<!-- 7&#45;&gt;6 -->\n<g id=\"edge7\" class=\"edge\">\n<title>7&#45;&gt;6</title>\n<path fill=\"none\" stroke=\"black\" d=\"M168.35,-434.07C218.23,-420.27 290.82,-400.18 333.17,-388.47\"/>\n<polygon fill=\"black\" stroke=\"black\" points=\"334.29,-391.79 342.99,-385.75 332.42,-385.04 334.29,-391.79\"/>\n</g>\n<!-- 8 -->\n<g id=\"node9\" class=\"node\">\n<title>8</title>\n<ellipse fill=\"none\" stroke=\"black\" cx=\"367.39\" cy=\"-450\" rx=\"120.48\" ry=\"18\"/>\n<text text-anchor=\"middle\" x=\"367.39\" y=\"-446.3\" font-family=\"Times,serif\" font-size=\"14.00\">Value(data:10, grad:10)</text>\n</g>\n<!-- 8&#45;&gt;6 -->\n<g id=\"edge8\" class=\"edge\">\n<title>8&#45;&gt;6</title>\n<path fill=\"none\" stroke=\"black\" d=\"M367.39,-431.7C367.39,-423.98 367.39,-414.71 367.39,-406.11\"/>\n<polygon fill=\"black\" stroke=\"black\" points=\"370.89,-406.1 367.39,-396.1 363.89,-406.1 370.89,-406.1\"/>\n</g>\n<!-- 9 -->\n<g id=\"node10\" class=\"node\">\n<title>9</title>\n<ellipse fill=\"none\" stroke=\"black\" cx=\"619.39\" cy=\"-306\" rx=\"114.28\" ry=\"18\"/>\n<text text-anchor=\"middle\" x=\"619.39\" y=\"-302.3\" font-family=\"Times,serif\" font-size=\"14.00\">Value(data:30, grad:2)</text>\n</g>\n<!-- 9&#45;&gt;4 -->\n<g id=\"edge10\" class=\"edge\">\n<title>9&#45;&gt;4</title>\n<path fill=\"none\" stroke=\"black\" d=\"M589.61,-288.59C569.01,-277.23 541.75,-262.2 521.33,-250.95\"/>\n<polygon fill=\"black\" stroke=\"black\" points=\"522.93,-247.84 512.48,-246.07 519.55,-253.97 522.93,-247.84\"/>\n</g>\n<!-- 10 -->\n<g id=\"node11\" class=\"node\">\n<title>10</title>\n<ellipse fill=\"none\" stroke=\"black\" cx=\"620.39\" cy=\"-378\" rx=\"27\" ry=\"18\"/>\n<text text-anchor=\"middle\" x=\"620.39\" y=\"-374.3\" font-family=\"Times,serif\" font-size=\"14.00\">*</text>\n</g>\n<!-- 10&#45;&gt;9 -->\n<g id=\"edge9\" class=\"edge\">\n<title>10&#45;&gt;9</title>\n<path fill=\"none\" stroke=\"black\" d=\"M620.14,-359.7C620.03,-351.98 619.9,-342.71 619.78,-334.11\"/>\n<polygon fill=\"black\" stroke=\"black\" points=\"623.28,-334.05 619.63,-324.1 616.28,-334.15 623.28,-334.05\"/>\n</g>\n<!-- 11 -->\n<g id=\"node12\" class=\"node\">\n<title>11</title>\n<ellipse fill=\"none\" stroke=\"black\" cx=\"620.39\" cy=\"-450\" rx=\"114.28\" ry=\"18\"/>\n<text text-anchor=\"middle\" x=\"620.39\" y=\"-446.3\" font-family=\"Times,serif\" font-size=\"14.00\">Value(data:10, grad:6)</text>\n</g>\n<!-- 11&#45;&gt;10 -->\n<g id=\"edge11\" class=\"edge\">\n<title>11&#45;&gt;10</title>\n<path fill=\"none\" stroke=\"black\" d=\"M620.39,-431.7C620.39,-423.98 620.39,-414.71 620.39,-406.11\"/>\n<polygon fill=\"black\" stroke=\"black\" points=\"623.89,-406.1 620.39,-396.1 616.89,-406.1 623.89,-406.1\"/>\n</g>\n<!-- 12 -->\n<g id=\"node13\" class=\"node\">\n<title>12</title>\n<ellipse fill=\"none\" stroke=\"black\" cx=\"867.39\" cy=\"-450\" rx=\"114.28\" ry=\"18\"/>\n<text text-anchor=\"middle\" x=\"867.39\" y=\"-446.3\" font-family=\"Times,serif\" font-size=\"14.00\">Value(data:3, grad:20)</text>\n</g>\n<!-- 12&#45;&gt;10 -->\n<g id=\"edge12\" class=\"edge\">\n<title>12&#45;&gt;10</title>\n<path fill=\"none\" stroke=\"black\" d=\"M814.4,-433.98C766.05,-420.28 696.02,-400.43 654.65,-388.71\"/>\n<polygon fill=\"black\" stroke=\"black\" points=\"655.35,-385.27 644.78,-385.91 653.45,-392.01 655.35,-385.27\"/>\n</g>\n</g>\n</svg>\n",
      "text/plain": [
       "<graphviz.graphs.Digraph at 0x7feb7b5dd930>"
      ]
     },
     "metadata": {},
     "output_type": "display_data"
    }
   ],
   "source": [
    "ValueBFS(res)\n"
   ]
  },
  {
   "cell_type": "code",
   "execution_count": 12,
   "metadata": {},
   "outputs": [],
   "source": [
    "# or we can use _backward method called in the right order\n",
    "\n",
    "# reset gradients\n",
    "for parameter in parameters:\n",
    "    parameter.grad = 0\n",
    "\n",
    "# initial value\n",
    "res.grad = 1\n",
    "\n",
    "res._backward()\n",
    "z._backward()\n",
    "v._backward()\n",
    "yu._backward()\n",
    "xg._backward()\n",
    "y._backward()\n",
    "u._backward()\n",
    "x._backward()\n",
    "g._backward()\n"
   ]
  },
  {
   "cell_type": "code",
   "execution_count": 13,
   "metadata": {},
   "outputs": [
    {
     "data": {
      "image/svg+xml": "<?xml version=\"1.0\" encoding=\"UTF-8\" standalone=\"no\"?>\n<!DOCTYPE svg PUBLIC \"-//W3C//DTD SVG 1.1//EN\"\n \"http://www.w3.org/Graphics/SVG/1.1/DTD/svg11.dtd\">\n<!-- Generated by graphviz version 2.43.0 (0)\n -->\n<!-- Title: %3 Pages: 1 -->\n<svg width=\"990pt\" height=\"476pt\"\n viewBox=\"0.00 0.00 989.78 476.00\" xmlns=\"http://www.w3.org/2000/svg\" xmlns:xlink=\"http://www.w3.org/1999/xlink\">\n<g id=\"graph0\" class=\"graph\" transform=\"scale(1 1) rotate(0) translate(4 472)\">\n<title>%3</title>\n<polygon fill=\"white\" stroke=\"transparent\" points=\"-4,4 -4,-472 985.78,-472 985.78,4 -4,4\"/>\n<!-- 0 -->\n<g id=\"node1\" class=\"node\">\n<title>0</title>\n<ellipse fill=\"none\" stroke=\"black\" cx=\"368.39\" cy=\"-18\" rx=\"120.48\" ry=\"18\"/>\n<text text-anchor=\"middle\" x=\"368.39\" y=\"-14.3\" font-family=\"Times,serif\" font-size=\"14.00\">Value(data:160, grad:1)</text>\n</g>\n<!-- 1 -->\n<g id=\"node2\" class=\"node\">\n<title>1</title>\n<ellipse fill=\"none\" stroke=\"black\" cx=\"368.39\" cy=\"-90\" rx=\"27\" ry=\"18\"/>\n<text text-anchor=\"middle\" x=\"368.39\" y=\"-86.3\" font-family=\"Times,serif\" font-size=\"14.00\">*</text>\n</g>\n<!-- 1&#45;&gt;0 -->\n<g id=\"edge1\" class=\"edge\">\n<title>1&#45;&gt;0</title>\n<path fill=\"none\" stroke=\"black\" d=\"M368.39,-71.7C368.39,-63.98 368.39,-54.71 368.39,-46.11\"/>\n<polygon fill=\"black\" stroke=\"black\" points=\"371.89,-46.1 368.39,-36.1 364.89,-46.1 371.89,-46.1\"/>\n</g>\n<!-- 2 -->\n<g id=\"node3\" class=\"node\">\n<title>2</title>\n<ellipse fill=\"none\" stroke=\"black\" cx=\"245.39\" cy=\"-162\" rx=\"114.28\" ry=\"18\"/>\n<text text-anchor=\"middle\" x=\"245.39\" y=\"-158.3\" font-family=\"Times,serif\" font-size=\"14.00\">Value(data:2, grad:80)</text>\n</g>\n<!-- 2&#45;&gt;1 -->\n<g id=\"edge2\" class=\"edge\">\n<title>2&#45;&gt;1</title>\n<path fill=\"none\" stroke=\"black\" d=\"M274.54,-144.41C294.16,-133.24 319.93,-118.58 339.5,-107.44\"/>\n<polygon fill=\"black\" stroke=\"black\" points=\"341.33,-110.43 348.29,-102.44 337.86,-104.35 341.33,-110.43\"/>\n</g>\n<!-- 3 -->\n<g id=\"node4\" class=\"node\">\n<title>3</title>\n<ellipse fill=\"none\" stroke=\"black\" cx=\"492.39\" cy=\"-162\" rx=\"114.28\" ry=\"18\"/>\n<text text-anchor=\"middle\" x=\"492.39\" y=\"-158.3\" font-family=\"Times,serif\" font-size=\"14.00\">Value(data:80, grad:2)</text>\n</g>\n<!-- 3&#45;&gt;1 -->\n<g id=\"edge4\" class=\"edge\">\n<title>3&#45;&gt;1</title>\n<path fill=\"none\" stroke=\"black\" d=\"M463.32,-144.59C443.42,-133.36 417.15,-118.52 397.29,-107.31\"/>\n<polygon fill=\"black\" stroke=\"black\" points=\"398.81,-104.15 388.38,-102.29 395.37,-110.25 398.81,-104.15\"/>\n</g>\n<!-- 4 -->\n<g id=\"node5\" class=\"node\">\n<title>4</title>\n<ellipse fill=\"none\" stroke=\"black\" cx=\"492.39\" cy=\"-234\" rx=\"27\" ry=\"18\"/>\n<text text-anchor=\"middle\" x=\"492.39\" y=\"-230.3\" font-family=\"Times,serif\" font-size=\"14.00\">+</text>\n</g>\n<!-- 4&#45;&gt;3 -->\n<g id=\"edge3\" class=\"edge\">\n<title>4&#45;&gt;3</title>\n<path fill=\"none\" stroke=\"black\" d=\"M492.39,-215.7C492.39,-207.98 492.39,-198.71 492.39,-190.11\"/>\n<polygon fill=\"black\" stroke=\"black\" points=\"495.89,-190.1 492.39,-180.1 488.89,-190.1 495.89,-190.1\"/>\n</g>\n<!-- 5 -->\n<g id=\"node6\" class=\"node\">\n<title>5</title>\n<ellipse fill=\"none\" stroke=\"black\" cx=\"369.39\" cy=\"-306\" rx=\"114.28\" ry=\"18\"/>\n<text text-anchor=\"middle\" x=\"369.39\" y=\"-302.3\" font-family=\"Times,serif\" font-size=\"14.00\">Value(data:50, grad:2)</text>\n</g>\n<!-- 5&#45;&gt;4 -->\n<g id=\"edge6\" class=\"edge\">\n<title>5&#45;&gt;4</title>\n<path fill=\"none\" stroke=\"black\" d=\"M398.54,-288.41C418.16,-277.24 443.93,-262.58 463.5,-251.44\"/>\n<polygon fill=\"black\" stroke=\"black\" points=\"465.33,-254.43 472.29,-246.44 461.86,-248.35 465.33,-254.43\"/>\n</g>\n<!-- 6 -->\n<g id=\"node7\" class=\"node\">\n<title>6</title>\n<ellipse fill=\"none\" stroke=\"black\" cx=\"367.39\" cy=\"-378\" rx=\"27\" ry=\"18\"/>\n<text text-anchor=\"middle\" x=\"367.39\" y=\"-374.3\" font-family=\"Times,serif\" font-size=\"14.00\">*</text>\n</g>\n<!-- 6&#45;&gt;5 -->\n<g id=\"edge5\" class=\"edge\">\n<title>6&#45;&gt;5</title>\n<path fill=\"none\" stroke=\"black\" d=\"M367.88,-359.7C368.1,-351.98 368.37,-342.71 368.62,-334.11\"/>\n<polygon fill=\"black\" stroke=\"black\" points=\"372.11,-334.2 368.9,-324.1 365.12,-334 372.11,-334.2\"/>\n</g>\n<!-- 7 -->\n<g id=\"node8\" class=\"node\">\n<title>7</title>\n<ellipse fill=\"none\" stroke=\"black\" cx=\"114.39\" cy=\"-450\" rx=\"114.28\" ry=\"18\"/>\n<text text-anchor=\"middle\" x=\"114.39\" y=\"-446.3\" font-family=\"Times,serif\" font-size=\"14.00\">Value(data:5, grad:20)</text>\n</g>\n<!-- 7&#45;&gt;6 -->\n<g id=\"edge7\" class=\"edge\">\n<title>7&#45;&gt;6</title>\n<path fill=\"none\" stroke=\"black\" d=\"M168.35,-434.07C218.23,-420.27 290.82,-400.18 333.17,-388.47\"/>\n<polygon fill=\"black\" stroke=\"black\" points=\"334.29,-391.79 342.99,-385.75 332.42,-385.04 334.29,-391.79\"/>\n</g>\n<!-- 8 -->\n<g id=\"node9\" class=\"node\">\n<title>8</title>\n<ellipse fill=\"none\" stroke=\"black\" cx=\"367.39\" cy=\"-450\" rx=\"120.48\" ry=\"18\"/>\n<text text-anchor=\"middle\" x=\"367.39\" y=\"-446.3\" font-family=\"Times,serif\" font-size=\"14.00\">Value(data:10, grad:10)</text>\n</g>\n<!-- 8&#45;&gt;6 -->\n<g id=\"edge8\" class=\"edge\">\n<title>8&#45;&gt;6</title>\n<path fill=\"none\" stroke=\"black\" d=\"M367.39,-431.7C367.39,-423.98 367.39,-414.71 367.39,-406.11\"/>\n<polygon fill=\"black\" stroke=\"black\" points=\"370.89,-406.1 367.39,-396.1 363.89,-406.1 370.89,-406.1\"/>\n</g>\n<!-- 9 -->\n<g id=\"node10\" class=\"node\">\n<title>9</title>\n<ellipse fill=\"none\" stroke=\"black\" cx=\"619.39\" cy=\"-306\" rx=\"114.28\" ry=\"18\"/>\n<text text-anchor=\"middle\" x=\"619.39\" y=\"-302.3\" font-family=\"Times,serif\" font-size=\"14.00\">Value(data:30, grad:2)</text>\n</g>\n<!-- 9&#45;&gt;4 -->\n<g id=\"edge10\" class=\"edge\">\n<title>9&#45;&gt;4</title>\n<path fill=\"none\" stroke=\"black\" d=\"M589.61,-288.59C569.01,-277.23 541.75,-262.2 521.33,-250.95\"/>\n<polygon fill=\"black\" stroke=\"black\" points=\"522.93,-247.84 512.48,-246.07 519.55,-253.97 522.93,-247.84\"/>\n</g>\n<!-- 10 -->\n<g id=\"node11\" class=\"node\">\n<title>10</title>\n<ellipse fill=\"none\" stroke=\"black\" cx=\"620.39\" cy=\"-378\" rx=\"27\" ry=\"18\"/>\n<text text-anchor=\"middle\" x=\"620.39\" y=\"-374.3\" font-family=\"Times,serif\" font-size=\"14.00\">*</text>\n</g>\n<!-- 10&#45;&gt;9 -->\n<g id=\"edge9\" class=\"edge\">\n<title>10&#45;&gt;9</title>\n<path fill=\"none\" stroke=\"black\" d=\"M620.14,-359.7C620.03,-351.98 619.9,-342.71 619.78,-334.11\"/>\n<polygon fill=\"black\" stroke=\"black\" points=\"623.28,-334.05 619.63,-324.1 616.28,-334.15 623.28,-334.05\"/>\n</g>\n<!-- 11 -->\n<g id=\"node12\" class=\"node\">\n<title>11</title>\n<ellipse fill=\"none\" stroke=\"black\" cx=\"620.39\" cy=\"-450\" rx=\"114.28\" ry=\"18\"/>\n<text text-anchor=\"middle\" x=\"620.39\" y=\"-446.3\" font-family=\"Times,serif\" font-size=\"14.00\">Value(data:10, grad:6)</text>\n</g>\n<!-- 11&#45;&gt;10 -->\n<g id=\"edge11\" class=\"edge\">\n<title>11&#45;&gt;10</title>\n<path fill=\"none\" stroke=\"black\" d=\"M620.39,-431.7C620.39,-423.98 620.39,-414.71 620.39,-406.11\"/>\n<polygon fill=\"black\" stroke=\"black\" points=\"623.89,-406.1 620.39,-396.1 616.89,-406.1 623.89,-406.1\"/>\n</g>\n<!-- 12 -->\n<g id=\"node13\" class=\"node\">\n<title>12</title>\n<ellipse fill=\"none\" stroke=\"black\" cx=\"867.39\" cy=\"-450\" rx=\"114.28\" ry=\"18\"/>\n<text text-anchor=\"middle\" x=\"867.39\" y=\"-446.3\" font-family=\"Times,serif\" font-size=\"14.00\">Value(data:3, grad:20)</text>\n</g>\n<!-- 12&#45;&gt;10 -->\n<g id=\"edge12\" class=\"edge\">\n<title>12&#45;&gt;10</title>\n<path fill=\"none\" stroke=\"black\" d=\"M814.4,-433.98C766.05,-420.28 696.02,-400.43 654.65,-388.71\"/>\n<polygon fill=\"black\" stroke=\"black\" points=\"655.35,-385.27 644.78,-385.91 653.45,-392.01 655.35,-385.27\"/>\n</g>\n</g>\n</svg>\n",
      "text/plain": [
       "<graphviz.graphs.Digraph at 0x7feb7b78b850>"
      ]
     },
     "metadata": {},
     "output_type": "display_data"
    }
   ],
   "source": [
    "\n",
    "ValueBFS(res)"
   ]
  },
  {
   "cell_type": "code",
   "execution_count": 26,
   "metadata": {},
   "outputs": [
    {
     "data": {
      "image/svg+xml": "<?xml version=\"1.0\" encoding=\"UTF-8\" standalone=\"no\"?>\n<!DOCTYPE svg PUBLIC \"-//W3C//DTD SVG 1.1//EN\"\n \"http://www.w3.org/Graphics/SVG/1.1/DTD/svg11.dtd\">\n<!-- Generated by graphviz version 2.43.0 (0)\n -->\n<!-- Title: %3 Pages: 1 -->\n<svg width=\"586pt\" height=\"476pt\"\n viewBox=\"0.00 0.00 586.08 476.00\" xmlns=\"http://www.w3.org/2000/svg\" xmlns:xlink=\"http://www.w3.org/1999/xlink\">\n<g id=\"graph0\" class=\"graph\" transform=\"scale(1 1) rotate(0) translate(4 472)\">\n<title>%3</title>\n<polygon fill=\"white\" stroke=\"transparent\" points=\"-4,4 -4,-472 582.08,-472 582.08,4 -4,4\"/>\n<!-- 0 -->\n<g id=\"node1\" class=\"node\">\n<title>0</title>\n<ellipse fill=\"none\" stroke=\"black\" cx=\"348.54\" cy=\"-18\" rx=\"120.48\" ry=\"18\"/>\n<text text-anchor=\"middle\" x=\"348.54\" y=\"-14.3\" font-family=\"Times,serif\" font-size=\"14.00\">Value(data:240, grad:0)</text>\n</g>\n<!-- 1 -->\n<g id=\"node2\" class=\"node\">\n<title>1</title>\n<ellipse fill=\"none\" stroke=\"black\" cx=\"348.54\" cy=\"-90\" rx=\"27\" ry=\"18\"/>\n<text text-anchor=\"middle\" x=\"348.54\" y=\"-86.3\" font-family=\"Times,serif\" font-size=\"14.00\">*</text>\n</g>\n<!-- 1&#45;&gt;0 -->\n<g id=\"edge1\" class=\"edge\">\n<title>1&#45;&gt;0</title>\n<path fill=\"none\" stroke=\"black\" d=\"M348.54,-71.7C348.54,-63.98 348.54,-54.71 348.54,-46.11\"/>\n<polygon fill=\"black\" stroke=\"black\" points=\"352.04,-46.1 348.54,-36.1 345.04,-46.1 352.04,-46.1\"/>\n</g>\n<!-- 2 -->\n<g id=\"node3\" class=\"node\">\n<title>2</title>\n<ellipse fill=\"none\" stroke=\"black\" cx=\"228.54\" cy=\"-162\" rx=\"114.28\" ry=\"18\"/>\n<text text-anchor=\"middle\" x=\"228.54\" y=\"-158.3\" font-family=\"Times,serif\" font-size=\"14.00\">Value(data:48, grad:0)</text>\n</g>\n<!-- 2&#45;&gt;1 -->\n<g id=\"edge3\" class=\"edge\">\n<title>2&#45;&gt;1</title>\n<path fill=\"none\" stroke=\"black\" d=\"M256.98,-144.41C276.04,-133.29 301.04,-118.71 320.1,-107.59\"/>\n<polygon fill=\"black\" stroke=\"black\" points=\"322.05,-110.5 328.93,-102.44 318.52,-104.46 322.05,-110.5\"/>\n</g>\n<!-- 3 -->\n<g id=\"node4\" class=\"node\">\n<title>3</title>\n<ellipse fill=\"none\" stroke=\"black\" cx=\"228.54\" cy=\"-234\" rx=\"27\" ry=\"18\"/>\n<text text-anchor=\"middle\" x=\"228.54\" y=\"-230.3\" font-family=\"Times,serif\" font-size=\"14.00\">*</text>\n</g>\n<!-- 3&#45;&gt;2 -->\n<g id=\"edge2\" class=\"edge\">\n<title>3&#45;&gt;2</title>\n<path fill=\"none\" stroke=\"black\" d=\"M228.54,-215.7C228.54,-207.98 228.54,-198.71 228.54,-190.11\"/>\n<polygon fill=\"black\" stroke=\"black\" points=\"232.04,-190.1 228.54,-180.1 225.04,-190.1 232.04,-190.1\"/>\n</g>\n<!-- 4 -->\n<g id=\"node5\" class=\"node\">\n<title>4</title>\n<ellipse fill=\"none\" stroke=\"black\" cx=\"108.54\" cy=\"-306\" rx=\"108.58\" ry=\"18\"/>\n<text text-anchor=\"middle\" x=\"108.54\" y=\"-302.3\" font-family=\"Times,serif\" font-size=\"14.00\">Value(data:4, grad:0)</text>\n</g>\n<!-- 4&#45;&gt;3 -->\n<g id=\"edge4\" class=\"edge\">\n<title>4&#45;&gt;3</title>\n<path fill=\"none\" stroke=\"black\" d=\"M136.68,-288.59C155.73,-277.48 180.81,-262.84 199.96,-251.67\"/>\n<polygon fill=\"black\" stroke=\"black\" points=\"201.95,-254.56 208.83,-246.5 198.42,-248.52 201.95,-254.56\"/>\n</g>\n<!-- 5 -->\n<g id=\"node6\" class=\"node\">\n<title>5</title>\n<ellipse fill=\"none\" stroke=\"black\" cx=\"349.54\" cy=\"-306\" rx=\"114.28\" ry=\"18\"/>\n<text text-anchor=\"middle\" x=\"349.54\" y=\"-302.3\" font-family=\"Times,serif\" font-size=\"14.00\">Value(data:12, grad:0)</text>\n</g>\n<!-- 5&#45;&gt;3 -->\n<g id=\"edge6\" class=\"edge\">\n<title>5&#45;&gt;3</title>\n<path fill=\"none\" stroke=\"black\" d=\"M320.87,-288.41C301.65,-277.29 276.44,-262.71 257.22,-251.59\"/>\n<polygon fill=\"black\" stroke=\"black\" points=\"258.73,-248.42 248.32,-246.44 255.22,-254.48 258.73,-248.42\"/>\n</g>\n<!-- 6 -->\n<g id=\"node7\" class=\"node\">\n<title>6</title>\n<ellipse fill=\"none\" stroke=\"black\" cx=\"349.54\" cy=\"-378\" rx=\"27\" ry=\"18\"/>\n<text text-anchor=\"middle\" x=\"349.54\" y=\"-374.3\" font-family=\"Times,serif\" font-size=\"14.00\">*</text>\n</g>\n<!-- 6&#45;&gt;5 -->\n<g id=\"edge5\" class=\"edge\">\n<title>6&#45;&gt;5</title>\n<path fill=\"none\" stroke=\"black\" d=\"M349.54,-359.7C349.54,-351.98 349.54,-342.71 349.54,-334.11\"/>\n<polygon fill=\"black\" stroke=\"black\" points=\"353.04,-334.1 349.54,-324.1 346.04,-334.1 353.04,-334.1\"/>\n</g>\n<!-- 7 -->\n<g id=\"node8\" class=\"node\">\n<title>7</title>\n<ellipse fill=\"none\" stroke=\"black\" cx=\"349.54\" cy=\"-450\" rx=\"108.58\" ry=\"18\"/>\n<text text-anchor=\"middle\" x=\"349.54\" y=\"-446.3\" font-family=\"Times,serif\" font-size=\"14.00\">Value(data:3, grad:0)</text>\n</g>\n<!-- 7&#45;&gt;6 -->\n<g id=\"edge7\" class=\"edge\">\n<title>7&#45;&gt;6</title>\n<path fill=\"none\" stroke=\"black\" d=\"M349.54,-431.7C349.54,-423.98 349.54,-414.71 349.54,-406.11\"/>\n<polygon fill=\"black\" stroke=\"black\" points=\"353.04,-406.1 349.54,-396.1 346.04,-406.1 353.04,-406.1\"/>\n</g>\n<!-- 8 -->\n<g id=\"node9\" class=\"node\">\n<title>8</title>\n<ellipse fill=\"none\" stroke=\"black\" cx=\"469.54\" cy=\"-162\" rx=\"108.58\" ry=\"18\"/>\n<text text-anchor=\"middle\" x=\"469.54\" y=\"-158.3\" font-family=\"Times,serif\" font-size=\"14.00\">Value(data:5, grad:0)</text>\n</g>\n<!-- 8&#45;&gt;1 -->\n<g id=\"edge8\" class=\"edge\">\n<title>8&#45;&gt;1</title>\n<path fill=\"none\" stroke=\"black\" d=\"M441.17,-144.59C421.87,-133.42 396.43,-118.71 377.1,-107.52\"/>\n<polygon fill=\"black\" stroke=\"black\" points=\"378.83,-104.48 368.42,-102.5 375.32,-110.54 378.83,-104.48\"/>\n</g>\n</g>\n</svg>\n",
      "text/plain": [
       "<graphviz.graphs.Digraph at 0x7feb73506740>"
      ]
     },
     "metadata": {},
     "output_type": "display_data"
    }
   ],
   "source": [
    "# the last thing left to do is to calculate backward pass automatically\n",
    "# in order to do that we need to traverse our expression tree topological order\n",
    "\n",
    "# create a function\n",
    "x = Value(3)\n",
    "y = Value(4)\n",
    "z = Value(5)\n",
    "\n",
    "xy =  x * y\n",
    "\n",
    "zxyy = xy * y * z\n",
    " \n",
    "ValueBFS(zxyy)\n"
   ]
  },
  {
   "cell_type": "code",
   "execution_count": null,
   "metadata": {},
   "outputs": [],
   "source": []
  }
 ],
 "metadata": {
  "kernelspec": {
   "display_name": "Python 3",
   "language": "python",
   "name": "python3"
  },
  "language_info": {
   "codemirror_mode": {
    "name": "ipython",
    "version": 3
   },
   "file_extension": ".py",
   "mimetype": "text/x-python",
   "name": "python",
   "nbconvert_exporter": "python",
   "pygments_lexer": "ipython3",
   "version": "3.10.7"
  },
  "orig_nbformat": 4,
  "vscode": {
   "interpreter": {
    "hash": "916dbcbb3f70747c44a77c7bcd40155683ae19c65e1c03b4aa3499c5328201f1"
   }
  }
 },
 "nbformat": 4,
 "nbformat_minor": 2
}
