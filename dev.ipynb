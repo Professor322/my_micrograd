{
 "cells": [
  {
   "cell_type": "code",
   "execution_count": 274,
   "metadata": {},
   "outputs": [],
   "source": [
    "import graphviz\n",
    "import matplotlib.pyplot as plt"
   ]
  },
  {
   "cell_type": "code",
   "execution_count": 321,
   "metadata": {},
   "outputs": [],
   "source": [
    "class Value:\n",
    "    # children = ()  is an empty tuple\n",
    "    def __init__(self, data, op = '', children = ()):\n",
    "        self.data = data\n",
    "        self.grad = 0\n",
    "        #underscore means that variable is for internal use\n",
    "        self._op = op\n",
    "        # create set out of incoming children, so we will not duplicate\n",
    "        # in case of same variable used twice in the arithmetic operation i.e (x * x)\n",
    "        self._children = set(children)\n",
    "        self._backward = lambda : None\n",
    "\n",
    "    def __add__(self, other):\n",
    "        other = other if isinstance(other, Value) else  Value(other)\n",
    "        result = Value(self.data + other.data, '+', (self, other))\n",
    "        def _backward():\n",
    "            self.grad += result.grad * 1\n",
    "            other.grad += result.grad * 1\n",
    "\n",
    "        result._backward = _backward\n",
    "        return result\n",
    "\n",
    "    def __mul__(self, other):\n",
    "        other = other if isinstance(other, Value) else  Value(other)\n",
    "        result = Value(self.data * other.data, '*', (self, other))\n",
    "        def _backward():\n",
    "            self.grad += other.data * result.grad\n",
    "            other.grad += self.data * result.grad\n",
    "        result._backward = _backward\n",
    "        return result\n",
    "    \n",
    "    def __pow__(self, other):\n",
    "        result = Value(self.data ** other, f'**{other}', (self,))\n",
    "        def _backward():\n",
    "            self.grad += other * self.data ** (other - 1) * result.grad\n",
    "\n",
    "        result._backward = _backward\n",
    "        return result\n",
    "    \n",
    "    def __truediv__(self, other):\n",
    "        return self * other ** -1\n",
    "    \n",
    "    def __neg__(self):\n",
    "        return self * -1\n",
    "\n",
    "    def __sub__(self, other):\n",
    "        return self + -other\n",
    "        \n",
    "    def __repr__(self):\n",
    "        return f'Value(data:{self.data}, grad:{self.grad:.3f})'\n",
    "    \n",
    "    def backward(self):\n",
    "        visited = set()\n",
    "        topological_order = []\n",
    "        def visit(value):\n",
    "            if value in visited:\n",
    "                return\n",
    "            visited.add(value)\n",
    "            for child in value._children:\n",
    "                visit(child)\n",
    "            topological_order.append(value)\n",
    "        visit(self)\n",
    "        self.grad = 1\n",
    "        for val in reversed(topological_order):\n",
    "            val._backward()"
   ]
  },
  {
   "cell_type": "code",
   "execution_count": 276,
   "metadata": {},
   "outputs": [
    {
     "name": "stdout",
     "output_type": "stream",
     "text": [
      "Value(data:9, grad:0.000)\n"
     ]
    }
   ],
   "source": [
    "x = Value(5)\n",
    "y = Value(6)\n",
    "z = Value(4)\n",
    "\n",
    "xz = x + z # 11\n",
    "xzy = xz + y # 15\n",
    "print(xz)\n",
    "#       xzy \n",
    "#        +  \n",
    "#     /        \\\n",
    "#    +          y\n",
    "#   / \\\n",
    "#  x   z\n",
    "\n",
    "\n",
    "\n",
    "\n"
   ]
  },
  {
   "cell_type": "code",
   "execution_count": 305,
   "metadata": {},
   "outputs": [],
   "source": [
    "# initially this function was supposed to print graph\n",
    "# without graphviz, that is why BFS is used here\n",
    "# but after adding graphviz visualization there is no \n",
    "# difference which traversal to use\n",
    "# all this complexity to avoid duplciation and make the same variale represented correctly\n",
    "# in different expressions\n",
    "# TODO: separate concerns: 1) traverse graph to collect nodes and edges\n",
    "#                          2) build graph visualization\n",
    "def ValueBFS(value):\n",
    "    assert isinstance(value, Value), \"Incorrect argument\"\n",
    "\n",
    "    dag = graphviz.Digraph(comment = \"Expression tree\")\n",
    "    # store in list (node, parent_id)\n",
    "    list = [(value, -1)]\n",
    "    visited_nodes_dict = {}\n",
    "    visited_edges = set()\n",
    "    node_id = 0\n",
    "    while (len(list)):\n",
    "        fixed_len = len(list)\n",
    "        for _ in range(0, fixed_len):\n",
    "            curr_value, parent_id = list.pop(0)\n",
    "            \n",
    "            # create a node with unique identifier\n",
    "            curr_value_id = node_id; node_id += 1\n",
    "            op_id = -1\n",
    "            # create value node and store in the dictionary for the lookups\n",
    "            if not (curr_value in visited_nodes_dict): \n",
    "                visited_nodes_dict[curr_value] = (curr_value_id, -1)\n",
    "                dag.attr('node', shape = 'box')\n",
    "                dag.node(str(curr_value_id), \n",
    "                         f'data={curr_value.data:.3f} | grad={curr_value.grad:.3f}')\n",
    "            else:\n",
    "                curr_value_id, op_id = visited_nodes_dict.get(curr_value)\n",
    "            \n",
    "            # create op node if possible and creates an edge between op and value\n",
    "            if curr_value._op != '':\n",
    "                if op_id == -1:\n",
    "                    op_id = node_id; node_id += 1\n",
    "                    visited_nodes_dict[curr_value] = (curr_value_id, op_id)\n",
    "\n",
    "                dag.attr('node', shape = 'ellipse')\n",
    "                dag.node(str(op_id), curr_value._op)\n",
    "                if not (op_id, curr_value_id) in visited_edges:\n",
    "                    dag.edge(str(op_id), str(curr_value_id))\n",
    "                    visited_edges.add((op_id, curr_value_id))\n",
    "            \n",
    "\n",
    "            if parent_id != -1:\n",
    "                dag.edge(str(curr_value_id), str(parent_id))\n",
    "                visited_edges.add((curr_value_id, parent_id))\n",
    "\n",
    "            new_parent_id = op_id if op_id != -1 else curr_value_id \n",
    "            for child in curr_value._children:\n",
    "                if child in visited_nodes_dict:\n",
    "                    v, op = visited_nodes_dict.get(child)\n",
    "                    u = new_parent_id\n",
    "                    if (v, u) in visited_edges:\n",
    "                        continue\n",
    "                list.append((child, new_parent_id))\n",
    "            \n",
    "    display(dag)\n",
    "\n",
    "\n"
   ]
  },
  {
   "cell_type": "code",
   "execution_count": 306,
   "metadata": {},
   "outputs": [
    {
     "data": {
      "image/svg+xml": "<?xml version=\"1.0\" encoding=\"UTF-8\" standalone=\"no\"?>\n<!DOCTYPE svg PUBLIC \"-//W3C//DTD SVG 1.1//EN\"\n \"http://www.w3.org/Graphics/SVG/1.1/DTD/svg11.dtd\">\n<!-- Generated by graphviz version 2.43.0 (0)\n -->\n<!-- Title: %3 Pages: 1 -->\n<svg width=\"450pt\" height=\"620pt\"\n viewBox=\"0.00 0.00 450.00 620.00\" xmlns=\"http://www.w3.org/2000/svg\" xmlns:xlink=\"http://www.w3.org/1999/xlink\">\n<g id=\"graph0\" class=\"graph\" transform=\"scale(1 1) rotate(0) translate(4 616)\">\n<title>%3</title>\n<polygon fill=\"white\" stroke=\"transparent\" points=\"-4,4 -4,-616 446,-616 446,4 -4,4\"/>\n<!-- 0 -->\n<g id=\"node1\" class=\"node\">\n<title>0</title>\n<polygon fill=\"none\" stroke=\"black\" points=\"398,-36 180,-36 180,0 398,0 398,-36\"/>\n<text text-anchor=\"middle\" x=\"289\" y=\"-14.3\" font-family=\"Times,serif\" font-size=\"14.00\">data=576.000 | grad=0.000</text>\n</g>\n<!-- 1 -->\n<g id=\"node2\" class=\"node\">\n<title>1</title>\n<ellipse fill=\"none\" stroke=\"black\" cx=\"289\" cy=\"-90\" rx=\"27\" ry=\"18\"/>\n<text text-anchor=\"middle\" x=\"289\" y=\"-86.3\" font-family=\"Times,serif\" font-size=\"14.00\">*</text>\n</g>\n<!-- 1&#45;&gt;0 -->\n<g id=\"edge1\" class=\"edge\">\n<title>1&#45;&gt;0</title>\n<path fill=\"none\" stroke=\"black\" d=\"M289,-71.7C289,-63.98 289,-54.71 289,-46.11\"/>\n<polygon fill=\"black\" stroke=\"black\" points=\"292.5,-46.1 289,-36.1 285.5,-46.1 292.5,-46.1\"/>\n</g>\n<!-- 2 -->\n<g id=\"node3\" class=\"node\">\n<title>2</title>\n<polygon fill=\"none\" stroke=\"black\" points=\"330,-180 112,-180 112,-144 330,-144 330,-180\"/>\n<text text-anchor=\"middle\" x=\"221\" y=\"-158.3\" font-family=\"Times,serif\" font-size=\"14.00\">data=192.000 | grad=0.000</text>\n</g>\n<!-- 2&#45;&gt;1 -->\n<g id=\"edge3\" class=\"edge\">\n<title>2&#45;&gt;1</title>\n<path fill=\"none\" stroke=\"black\" d=\"M237.81,-143.7C246.84,-134.41 258.05,-122.86 267.69,-112.94\"/>\n<polygon fill=\"black\" stroke=\"black\" points=\"270.23,-115.35 274.68,-105.74 265.2,-110.47 270.23,-115.35\"/>\n</g>\n<!-- 3 -->\n<g id=\"node4\" class=\"node\">\n<title>3</title>\n<ellipse fill=\"none\" stroke=\"black\" cx=\"212\" cy=\"-234\" rx=\"27\" ry=\"18\"/>\n<text text-anchor=\"middle\" x=\"212\" y=\"-230.3\" font-family=\"Times,serif\" font-size=\"14.00\">*</text>\n</g>\n<!-- 3&#45;&gt;2 -->\n<g id=\"edge2\" class=\"edge\">\n<title>3&#45;&gt;2</title>\n<path fill=\"none\" stroke=\"black\" d=\"M214.18,-216.05C215.17,-208.35 216.37,-199.03 217.48,-190.36\"/>\n<polygon fill=\"black\" stroke=\"black\" points=\"220.98,-190.64 218.78,-180.28 214.03,-189.75 220.98,-190.64\"/>\n</g>\n<!-- 4 -->\n<g id=\"node5\" class=\"node\">\n<title>4</title>\n<polygon fill=\"none\" stroke=\"black\" points=\"442,-612 242,-612 242,-576 442,-576 442,-612\"/>\n<text text-anchor=\"middle\" x=\"342\" y=\"-590.3\" font-family=\"Times,serif\" font-size=\"14.00\">data=3.000 | grad=0.000</text>\n</g>\n<!-- 4&#45;&gt;1 -->\n<g id=\"edge4\" class=\"edge\">\n<title>4&#45;&gt;1</title>\n<path fill=\"none\" stroke=\"black\" d=\"M346.86,-575.67C353.87,-549.08 366,-496.5 366,-451 366,-451 366,-451 366,-233 366,-191.66 359.73,-179.76 339,-144 332.16,-132.2 322.21,-120.94 312.99,-111.86\"/>\n<polygon fill=\"black\" stroke=\"black\" points=\"315.17,-109.1 305.5,-104.77 310.36,-114.19 315.17,-109.1\"/>\n</g>\n<!-- 9 -->\n<g id=\"node10\" class=\"node\">\n<title>9</title>\n<ellipse fill=\"none\" stroke=\"black\" cx=\"233\" cy=\"-522\" rx=\"27\" ry=\"18\"/>\n<text text-anchor=\"middle\" x=\"233\" y=\"-518.3\" font-family=\"Times,serif\" font-size=\"14.00\">*</text>\n</g>\n<!-- 4&#45;&gt;9 -->\n<g id=\"edge12\" class=\"edge\">\n<title>4&#45;&gt;9</title>\n<path fill=\"none\" stroke=\"black\" d=\"M315.34,-575.88C298.74,-565.22 277.45,-551.54 260.67,-540.77\"/>\n<polygon fill=\"black\" stroke=\"black\" points=\"262.18,-537.58 251.87,-535.12 258.4,-543.47 262.18,-537.58\"/>\n</g>\n<!-- 5 -->\n<g id=\"node6\" class=\"node\">\n<title>5</title>\n<polygon fill=\"none\" stroke=\"black\" points=\"200,-612 0,-612 0,-576 200,-576 200,-612\"/>\n<text text-anchor=\"middle\" x=\"100\" y=\"-590.3\" font-family=\"Times,serif\" font-size=\"14.00\">data=4.000 | grad=0.000</text>\n</g>\n<!-- 5&#45;&gt;3 -->\n<g id=\"edge5\" class=\"edge\">\n<title>5&#45;&gt;3</title>\n<path fill=\"none\" stroke=\"black\" d=\"M92.31,-575.91C81.21,-549.62 62,-497.45 62,-451 62,-451 62,-451 62,-377 62,-334.33 68.6,-318.93 98,-288 119.28,-265.61 151.86,-251.78 176.75,-243.89\"/>\n<polygon fill=\"black\" stroke=\"black\" points=\"177.98,-247.18 186.56,-240.96 175.97,-240.47 177.98,-247.18\"/>\n</g>\n<!-- 7 -->\n<g id=\"node8\" class=\"node\">\n<title>7</title>\n<ellipse fill=\"none\" stroke=\"black\" cx=\"212\" cy=\"-378\" rx=\"27\" ry=\"18\"/>\n<text text-anchor=\"middle\" x=\"212\" y=\"-374.3\" font-family=\"Times,serif\" font-size=\"14.00\">*</text>\n</g>\n<!-- 5&#45;&gt;7 -->\n<g id=\"edge10\" class=\"edge\">\n<title>5&#45;&gt;7</title>\n<path fill=\"none\" stroke=\"black\" d=\"M97.31,-575.8C93.35,-544.38 89.31,-476.81 119,-432 132.73,-411.27 157.52,-397.73 178.05,-389.53\"/>\n<polygon fill=\"black\" stroke=\"black\" points=\"179.28,-392.81 187.42,-386.03 176.83,-386.25 179.28,-392.81\"/>\n</g>\n<!-- 5&#45;&gt;9 -->\n<g id=\"edge11\" class=\"edge\">\n<title>5&#45;&gt;9</title>\n<path fill=\"none\" stroke=\"black\" d=\"M132.54,-575.88C154.14,-564.5 182.29,-549.69 203.29,-538.64\"/>\n<polygon fill=\"black\" stroke=\"black\" points=\"205.17,-541.6 212.39,-533.85 201.91,-535.41 205.17,-541.6\"/>\n</g>\n<!-- 6 -->\n<g id=\"node7\" class=\"node\">\n<title>6</title>\n<polygon fill=\"none\" stroke=\"black\" points=\"316.5,-324 107.5,-324 107.5,-288 316.5,-288 316.5,-324\"/>\n<text text-anchor=\"middle\" x=\"212\" y=\"-302.3\" font-family=\"Times,serif\" font-size=\"14.00\">data=48.000 | grad=0.000</text>\n</g>\n<!-- 6&#45;&gt;3 -->\n<g id=\"edge7\" class=\"edge\">\n<title>6&#45;&gt;3</title>\n<path fill=\"none\" stroke=\"black\" d=\"M212,-287.7C212,-279.98 212,-270.71 212,-262.11\"/>\n<polygon fill=\"black\" stroke=\"black\" points=\"215.5,-262.1 212,-252.1 208.5,-262.1 215.5,-262.1\"/>\n</g>\n<!-- 7&#45;&gt;6 -->\n<g id=\"edge6\" class=\"edge\">\n<title>7&#45;&gt;6</title>\n<path fill=\"none\" stroke=\"black\" d=\"M212,-359.7C212,-351.98 212,-342.71 212,-334.11\"/>\n<polygon fill=\"black\" stroke=\"black\" points=\"215.5,-334.1 212,-324.1 208.5,-334.1 215.5,-334.1\"/>\n</g>\n<!-- 8 -->\n<g id=\"node9\" class=\"node\">\n<title>8</title>\n<polygon fill=\"none\" stroke=\"black\" points=\"337.5,-468 128.5,-468 128.5,-432 337.5,-432 337.5,-468\"/>\n<text text-anchor=\"middle\" x=\"233\" y=\"-446.3\" font-family=\"Times,serif\" font-size=\"14.00\">data=12.000 | grad=0.000</text>\n</g>\n<!-- 8&#45;&gt;7 -->\n<g id=\"edge9\" class=\"edge\">\n<title>8&#45;&gt;7</title>\n<path fill=\"none\" stroke=\"black\" d=\"M227.81,-431.7C225.47,-423.9 222.65,-414.51 220.05,-405.83\"/>\n<polygon fill=\"black\" stroke=\"black\" points=\"223.36,-404.68 217.13,-396.1 216.65,-406.69 223.36,-404.68\"/>\n</g>\n<!-- 9&#45;&gt;8 -->\n<g id=\"edge8\" class=\"edge\">\n<title>9&#45;&gt;8</title>\n<path fill=\"none\" stroke=\"black\" d=\"M233,-503.7C233,-495.98 233,-486.71 233,-478.11\"/>\n<polygon fill=\"black\" stroke=\"black\" points=\"236.5,-478.1 233,-468.1 229.5,-478.1 236.5,-478.1\"/>\n</g>\n</g>\n</svg>\n",
      "text/plain": [
       "<graphviz.graphs.Digraph at 0x7feb70740910>"
      ]
     },
     "metadata": {},
     "output_type": "display_data"
    }
   ],
   "source": [
    "x = Value(3)\n",
    "y = Value(4)\n",
    "z = Value(5)\n",
    "\n",
    "xy =  x * y # 12\n",
    "\n",
    "#        48  192\n",
    "zxyy = xy * y * y * x\n",
    "\n",
    "zxyyy = zxyy * y\n",
    " \n",
    "ValueBFS(zxyy)"
   ]
  },
  {
   "attachments": {},
   "cell_type": "markdown",
   "metadata": {},
   "source": [
    "# What is a neuron?\n",
    "    Mathematical model of neuron is a function that takes as an input arbitrary X (vector of the input values) and multiples it by W (vector of the neuron weights) and adds bias (B). W and B are configurable parts of the neuron. To adjust or normalalize the output of the computed values, the result (X * W + B) goes through activation function. (i.e tanh)\n",
    "\n",
    "    F(X) = X * W + B -> tanh(F(X)) (or any other activaiton function) \n",
    "\n",
    "    To understand the impact of configurable parameters, we need to look at derivatives with respect to each parameter. dWi/df\n",
    "\n",
    "    Derivatives measure the senstivity to change of the function value with respect to a change in its argument. (f(x + h) - f(x)) / h"
   ]
  },
  {
   "cell_type": "code",
   "execution_count": 279,
   "metadata": {},
   "outputs": [
    {
     "data": {
      "image/png": "[encoded data removed]",
      "text/plain": [
       "<Figure size 640x480 with 1 Axes>"
      ]
     },
     "metadata": {},
     "output_type": "display_data"
    }
   ],
   "source": [
    "# calculating derrivatives of function\n",
    "def f(x):\n",
    "    return x ** 2\n",
    "\n",
    "# derivative is a slope, instantaneous rate of change \n",
    "def derivative_f(x):\n",
    "    h = 0.001\n",
    "    return ( f(x + h) - f(x) ) / h\n",
    "\n",
    "\n",
    "x = range(-100, 100)\n",
    "y = []\n",
    "for i in x:\n",
    "    y.append(f(i))\n",
    "\n",
    "\n",
    "# plot function\n",
    "fig, ax = plt.subplots()\n",
    "ax.plot(x, y)\n",
    "# plot derivative in the fixed point\n",
    "x_fixed = 0\n",
    "slope = derivative_f(x_fixed)\n",
    "y_der = []\n",
    "def derivative_line(slope, x):\n",
    "    return slope * x\n",
    "for i in range(-100, 100):\n",
    "    y_der.append(derivative_line(slope, i))\n",
    "ax.plot(x, y_der)\n",
    "plt.show()\n",
    "\n",
    "# knowing derivative of the function we can manipulate the output of the function \n",
    "# if derivative with respect to input x is positive, then  by increasing x function will grow\n",
    "# if derivative with respect to input x is negative, then by increasing x function will go down\n",
    "# knowing the target value we can manipulate parameters to get the closet possible result\n",
    "\n"
   ]
  },
  {
   "cell_type": "code",
   "execution_count": 280,
   "metadata": {},
   "outputs": [
    {
     "data": {
      "image/svg+xml": "<?xml version=\"1.0\" encoding=\"UTF-8\" standalone=\"no\"?>\n<!DOCTYPE svg PUBLIC \"-//W3C//DTD SVG 1.1//EN\"\n \"http://www.w3.org/Graphics/SVG/1.1/DTD/svg11.dtd\">\n<!-- Generated by graphviz version 2.43.0 (0)\n -->\n<!-- Title: %3 Pages: 1 -->\n<svg width=\"535pt\" height=\"332pt\"\n viewBox=\"0.00 0.00 535.00 332.00\" xmlns=\"http://www.w3.org/2000/svg\" xmlns:xlink=\"http://www.w3.org/1999/xlink\">\n<g id=\"graph0\" class=\"graph\" transform=\"scale(1 1) rotate(0) translate(4 328)\">\n<title>%3</title>\n<polygon fill=\"white\" stroke=\"transparent\" points=\"-4,4 -4,-328 531,-328 531,4 -4,4\"/>\n<!-- 0 -->\n<g id=\"node1\" class=\"node\">\n<title>0</title>\n<polygon fill=\"none\" stroke=\"black\" points=\"313.5,-36 104.5,-36 104.5,0 313.5,0 313.5,-36\"/>\n<text text-anchor=\"middle\" x=\"209\" y=\"-14.3\" font-family=\"Times,serif\" font-size=\"14.00\">data=15.000 | grad=0.000</text>\n</g>\n<!-- 1 -->\n<g id=\"node2\" class=\"node\">\n<title>1</title>\n<ellipse fill=\"none\" stroke=\"black\" cx=\"209\" cy=\"-90\" rx=\"27\" ry=\"18\"/>\n<text text-anchor=\"middle\" x=\"209\" y=\"-86.3\" font-family=\"Times,serif\" font-size=\"14.00\">+</text>\n</g>\n<!-- 1&#45;&gt;0 -->\n<g id=\"edge1\" class=\"edge\">\n<title>1&#45;&gt;0</title>\n<path fill=\"none\" stroke=\"black\" d=\"M209,-71.7C209,-63.98 209,-54.71 209,-46.11\"/>\n<polygon fill=\"black\" stroke=\"black\" points=\"212.5,-46.1 209,-36.1 205.5,-46.1 212.5,-46.1\"/>\n</g>\n<!-- 2 -->\n<g id=\"node3\" class=\"node\">\n<title>2</title>\n<polygon fill=\"none\" stroke=\"black\" points=\"200,-180 0,-180 0,-144 200,-144 200,-180\"/>\n<text text-anchor=\"middle\" x=\"100\" y=\"-158.3\" font-family=\"Times,serif\" font-size=\"14.00\">data=6.000 | grad=0.000</text>\n</g>\n<!-- 2&#45;&gt;1 -->\n<g id=\"edge2\" class=\"edge\">\n<title>2&#45;&gt;1</title>\n<path fill=\"none\" stroke=\"black\" d=\"M126.66,-143.88C143.26,-133.22 164.55,-119.54 181.33,-108.77\"/>\n<polygon fill=\"black\" stroke=\"black\" points=\"183.6,-111.47 190.13,-103.12 179.82,-105.58 183.6,-111.47\"/>\n</g>\n<!-- 3 -->\n<g id=\"node4\" class=\"node\">\n<title>3</title>\n<polygon fill=\"none\" stroke=\"black\" points=\"418,-180 218,-180 218,-144 418,-144 418,-180\"/>\n<text text-anchor=\"middle\" x=\"318\" y=\"-158.3\" font-family=\"Times,serif\" font-size=\"14.00\">data=9.000 | grad=0.000</text>\n</g>\n<!-- 3&#45;&gt;1 -->\n<g id=\"edge4\" class=\"edge\">\n<title>3&#45;&gt;1</title>\n<path fill=\"none\" stroke=\"black\" d=\"M291.34,-143.88C274.74,-133.22 253.45,-119.54 236.67,-108.77\"/>\n<polygon fill=\"black\" stroke=\"black\" points=\"238.18,-105.58 227.87,-103.12 234.4,-111.47 238.18,-105.58\"/>\n</g>\n<!-- 4 -->\n<g id=\"node5\" class=\"node\">\n<title>4</title>\n<ellipse fill=\"none\" stroke=\"black\" cx=\"318\" cy=\"-234\" rx=\"27\" ry=\"18\"/>\n<text text-anchor=\"middle\" x=\"318\" y=\"-230.3\" font-family=\"Times,serif\" font-size=\"14.00\">+</text>\n</g>\n<!-- 4&#45;&gt;3 -->\n<g id=\"edge3\" class=\"edge\">\n<title>4&#45;&gt;3</title>\n<path fill=\"none\" stroke=\"black\" d=\"M318,-215.7C318,-207.98 318,-198.71 318,-190.11\"/>\n<polygon fill=\"black\" stroke=\"black\" points=\"321.5,-190.1 318,-180.1 314.5,-190.1 321.5,-190.1\"/>\n</g>\n<!-- 5 -->\n<g id=\"node6\" class=\"node\">\n<title>5</title>\n<polygon fill=\"none\" stroke=\"black\" points=\"309,-324 109,-324 109,-288 309,-288 309,-324\"/>\n<text text-anchor=\"middle\" x=\"209\" y=\"-302.3\" font-family=\"Times,serif\" font-size=\"14.00\">data=5.000 | grad=0.000</text>\n</g>\n<!-- 5&#45;&gt;4 -->\n<g id=\"edge5\" class=\"edge\">\n<title>5&#45;&gt;4</title>\n<path fill=\"none\" stroke=\"black\" d=\"M235.66,-287.88C252.26,-277.22 273.55,-263.54 290.33,-252.77\"/>\n<polygon fill=\"black\" stroke=\"black\" points=\"292.6,-255.47 299.13,-247.12 288.82,-249.58 292.6,-255.47\"/>\n</g>\n<!-- 6 -->\n<g id=\"node7\" class=\"node\">\n<title>6</title>\n<polygon fill=\"none\" stroke=\"black\" points=\"527,-324 327,-324 327,-288 527,-288 527,-324\"/>\n<text text-anchor=\"middle\" x=\"427\" y=\"-302.3\" font-family=\"Times,serif\" font-size=\"14.00\">data=4.000 | grad=0.000</text>\n</g>\n<!-- 6&#45;&gt;4 -->\n<g id=\"edge6\" class=\"edge\">\n<title>6&#45;&gt;4</title>\n<path fill=\"none\" stroke=\"black\" d=\"M400.34,-287.88C383.74,-277.22 362.45,-263.54 345.67,-252.77\"/>\n<polygon fill=\"black\" stroke=\"black\" points=\"347.18,-249.58 336.87,-247.12 343.4,-255.47 347.18,-249.58\"/>\n</g>\n</g>\n</svg>\n",
      "text/plain": [
       "<graphviz.graphs.Digraph at 0x7feb706dafb0>"
      ]
     },
     "metadata": {},
     "output_type": "display_data"
    }
   ],
   "source": [
    "x = Value(5)\n",
    "y = Value(6)\n",
    "z = Value(4)\n",
    "\n",
    "xz = x + z # 11\n",
    "xzy = xz + y # 15\n",
    "#       xzy \n",
    "#        +  \n",
    "#     /        \\\n",
    "#    +          y\n",
    "#   / \\\n",
    "#  x   z\n",
    "\n",
    "ValueBFS(xzy)\n",
    "\n",
    "\n",
    "\n",
    "\n"
   ]
  },
  {
   "cell_type": "code",
   "execution_count": 281,
   "metadata": {},
   "outputs": [
    {
     "data": {
      "text/plain": [
       "4.000000000006224"
      ]
     },
     "execution_count": 281,
     "metadata": {},
     "output_type": "execute_result"
    }
   ],
   "source": [
    "x = 5\n",
    "y = 6\n",
    "z = 4\n",
    "x_plus_z = x * z\n",
    "g = x_plus_z + y\n",
    "\n",
    "h = 0.001\n",
    "\n",
    "# how y contributes to y contirbutes to g?\n",
    "(x_plus_z + y + h - g )/ h\n",
    "# that means if we slightly increase y, g will increase proportionally\n",
    "\n",
    "# how x contributes to g?\n",
    "\n",
    "# firstly, we need to calculate how x_plus_z contributes to g\n",
    "# then calculate how x contributes to x_plus_z\n",
    "# then multiply 2 results. Intuitively, with the first part we measure overall contribution by\n",
    "# x_plus_z, then we scale it by single contribution of x\n",
    "\n",
    "d_g_d_x_plus_z = (x_plus_z + h + y - g) / h\n",
    "\n",
    "d_x_plus_z_d_x = (((x + h) * z) - x_plus_z) / h\n",
    "d_x_plus_z_d_x * d_g_d_x_plus_z\n"
   ]
  },
  {
   "cell_type": "code",
   "execution_count": 282,
   "metadata": {},
   "outputs": [],
   "source": [
    "# calculate gradient manually\n",
    "\n",
    "# create a function\n",
    "x = Value(5)\n",
    "g = Value(10)\n",
    "xg = x * g\n",
    "y = Value(10)\n",
    "u = Value(3)\n",
    "yu = y * u\n",
    "z = yu + xg\n",
    "\n",
    "v = Value(2)\n",
    "res = z * v\n",
    "\n",
    "\n",
    "# manual backward pass\n",
    "res.grad = 1\n",
    "\n",
    "# 1\n",
    "v.grad = z.data * res.grad\n",
    "z.grad = v.data * res.grad\n",
    "\n",
    "# 2\n",
    "yu.grad = z.grad * 1\n",
    "xg.grad = z.grad * 1\n",
    "\n",
    "# 3\n",
    "y.grad = u.data * yu.grad\n",
    "u.grad = y.data * yu.grad\n",
    "\n",
    "# 4\n",
    "x.grad = xg.grad * g.data\n",
    "g.grad = xg.grad * x.data\n",
    "\n",
    "parameters = [x, g, xg, y, u, yu, z, v, res]\n"
   ]
  },
  {
   "cell_type": "code",
   "execution_count": 283,
   "metadata": {},
   "outputs": [
    {
     "data": {
      "image/svg+xml": "<?xml version=\"1.0\" encoding=\"UTF-8\" standalone=\"no\"?>\n<!DOCTYPE svg PUBLIC \"-//W3C//DTD SVG 1.1//EN\"\n \"http://www.w3.org/Graphics/SVG/1.1/DTD/svg11.dtd\">\n<!-- Generated by graphviz version 2.43.0 (0)\n -->\n<!-- Title: %3 Pages: 1 -->\n<svg width=\"908pt\" height=\"476pt\"\n viewBox=\"0.00 0.00 907.50 476.00\" xmlns=\"http://www.w3.org/2000/svg\" xmlns:xlink=\"http://www.w3.org/1999/xlink\">\n<g id=\"graph0\" class=\"graph\" transform=\"scale(1 1) rotate(0) translate(4 472)\">\n<title>%3</title>\n<polygon fill=\"white\" stroke=\"transparent\" points=\"-4,4 -4,-472 903.5,-472 903.5,4 -4,4\"/>\n<!-- 0 -->\n<g id=\"node1\" class=\"node\">\n<title>0</title>\n<polygon fill=\"none\" stroke=\"black\" points=\"449,-36 231,-36 231,0 449,0 449,-36\"/>\n<text text-anchor=\"middle\" x=\"340\" y=\"-14.3\" font-family=\"Times,serif\" font-size=\"14.00\">data=160.000 | grad=1.000</text>\n</g>\n<!-- 1 -->\n<g id=\"node2\" class=\"node\">\n<title>1</title>\n<ellipse fill=\"none\" stroke=\"black\" cx=\"340\" cy=\"-90\" rx=\"27\" ry=\"18\"/>\n<text text-anchor=\"middle\" x=\"340\" y=\"-86.3\" font-family=\"Times,serif\" font-size=\"14.00\">*</text>\n</g>\n<!-- 1&#45;&gt;0 -->\n<g id=\"edge1\" class=\"edge\">\n<title>1&#45;&gt;0</title>\n<path fill=\"none\" stroke=\"black\" d=\"M340,-71.7C340,-63.98 340,-54.71 340,-46.11\"/>\n<polygon fill=\"black\" stroke=\"black\" points=\"343.5,-46.1 340,-36.1 336.5,-46.1 343.5,-46.1\"/>\n</g>\n<!-- 2 -->\n<g id=\"node3\" class=\"node\">\n<title>2</title>\n<polygon fill=\"none\" stroke=\"black\" points=\"331.5,-180 122.5,-180 122.5,-144 331.5,-144 331.5,-180\"/>\n<text text-anchor=\"middle\" x=\"227\" y=\"-158.3\" font-family=\"Times,serif\" font-size=\"14.00\">data=2.000 | grad=80.000</text>\n</g>\n<!-- 2&#45;&gt;1 -->\n<g id=\"edge2\" class=\"edge\">\n<title>2&#45;&gt;1</title>\n<path fill=\"none\" stroke=\"black\" d=\"M254.64,-143.88C272.11,-133.05 294.62,-119.11 312.13,-108.26\"/>\n<polygon fill=\"black\" stroke=\"black\" points=\"314.12,-111.15 320.78,-102.9 310.44,-105.2 314.12,-111.15\"/>\n</g>\n<!-- 3 -->\n<g id=\"node4\" class=\"node\">\n<title>3</title>\n<polygon fill=\"none\" stroke=\"black\" points=\"558.5,-180 349.5,-180 349.5,-144 558.5,-144 558.5,-180\"/>\n<text text-anchor=\"middle\" x=\"454\" y=\"-158.3\" font-family=\"Times,serif\" font-size=\"14.00\">data=80.000 | grad=2.000</text>\n</g>\n<!-- 3&#45;&gt;1 -->\n<g id=\"edge4\" class=\"edge\">\n<title>3&#45;&gt;1</title>\n<path fill=\"none\" stroke=\"black\" d=\"M426.11,-143.88C408.49,-133.05 385.78,-119.11 368.12,-108.26\"/>\n<polygon fill=\"black\" stroke=\"black\" points=\"369.74,-105.15 359.39,-102.9 366.08,-111.12 369.74,-105.15\"/>\n</g>\n<!-- 4 -->\n<g id=\"node5\" class=\"node\">\n<title>4</title>\n<ellipse fill=\"none\" stroke=\"black\" cx=\"454\" cy=\"-234\" rx=\"27\" ry=\"18\"/>\n<text text-anchor=\"middle\" x=\"454\" y=\"-230.3\" font-family=\"Times,serif\" font-size=\"14.00\">+</text>\n</g>\n<!-- 4&#45;&gt;3 -->\n<g id=\"edge3\" class=\"edge\">\n<title>4&#45;&gt;3</title>\n<path fill=\"none\" stroke=\"black\" d=\"M454,-215.7C454,-207.98 454,-198.71 454,-190.11\"/>\n<polygon fill=\"black\" stroke=\"black\" points=\"457.5,-190.1 454,-180.1 450.5,-190.1 457.5,-190.1\"/>\n</g>\n<!-- 5 -->\n<g id=\"node6\" class=\"node\">\n<title>5</title>\n<polygon fill=\"none\" stroke=\"black\" points=\"445.5,-324 236.5,-324 236.5,-288 445.5,-288 445.5,-324\"/>\n<text text-anchor=\"middle\" x=\"341\" y=\"-302.3\" font-family=\"Times,serif\" font-size=\"14.00\">data=50.000 | grad=2.000</text>\n</g>\n<!-- 5&#45;&gt;4 -->\n<g id=\"edge6\" class=\"edge\">\n<title>5&#45;&gt;4</title>\n<path fill=\"none\" stroke=\"black\" d=\"M368.64,-287.88C386.11,-277.05 408.62,-263.11 426.13,-252.26\"/>\n<polygon fill=\"black\" stroke=\"black\" points=\"428.12,-255.15 434.78,-246.9 424.44,-249.2 428.12,-255.15\"/>\n</g>\n<!-- 6 -->\n<g id=\"node7\" class=\"node\">\n<title>6</title>\n<ellipse fill=\"none\" stroke=\"black\" cx=\"341\" cy=\"-378\" rx=\"27\" ry=\"18\"/>\n<text text-anchor=\"middle\" x=\"341\" y=\"-374.3\" font-family=\"Times,serif\" font-size=\"14.00\">*</text>\n</g>\n<!-- 6&#45;&gt;5 -->\n<g id=\"edge5\" class=\"edge\">\n<title>6&#45;&gt;5</title>\n<path fill=\"none\" stroke=\"black\" d=\"M341,-359.7C341,-351.98 341,-342.71 341,-334.11\"/>\n<polygon fill=\"black\" stroke=\"black\" points=\"344.5,-334.1 341,-324.1 337.5,-334.1 344.5,-334.1\"/>\n</g>\n<!-- 7 -->\n<g id=\"node8\" class=\"node\">\n<title>7</title>\n<polygon fill=\"none\" stroke=\"black\" points=\"672.5,-324 463.5,-324 463.5,-288 672.5,-288 672.5,-324\"/>\n<text text-anchor=\"middle\" x=\"568\" y=\"-302.3\" font-family=\"Times,serif\" font-size=\"14.00\">data=30.000 | grad=2.000</text>\n</g>\n<!-- 7&#45;&gt;4 -->\n<g id=\"edge8\" class=\"edge\">\n<title>7&#45;&gt;4</title>\n<path fill=\"none\" stroke=\"black\" d=\"M540.11,-287.88C522.49,-277.05 499.78,-263.11 482.12,-252.26\"/>\n<polygon fill=\"black\" stroke=\"black\" points=\"483.74,-249.15 473.39,-246.9 480.08,-255.12 483.74,-249.15\"/>\n</g>\n<!-- 8 -->\n<g id=\"node9\" class=\"node\">\n<title>8</title>\n<ellipse fill=\"none\" stroke=\"black\" cx=\"568\" cy=\"-378\" rx=\"27\" ry=\"18\"/>\n<text text-anchor=\"middle\" x=\"568\" y=\"-374.3\" font-family=\"Times,serif\" font-size=\"14.00\">*</text>\n</g>\n<!-- 8&#45;&gt;7 -->\n<g id=\"edge7\" class=\"edge\">\n<title>8&#45;&gt;7</title>\n<path fill=\"none\" stroke=\"black\" d=\"M568,-359.7C568,-351.98 568,-342.71 568,-334.11\"/>\n<polygon fill=\"black\" stroke=\"black\" points=\"571.5,-334.1 568,-324.1 564.5,-334.1 571.5,-334.1\"/>\n</g>\n<!-- 9 -->\n<g id=\"node10\" class=\"node\">\n<title>9</title>\n<polygon fill=\"none\" stroke=\"black\" points=\"218,-468 0,-468 0,-432 218,-432 218,-468\"/>\n<text text-anchor=\"middle\" x=\"109\" y=\"-446.3\" font-family=\"Times,serif\" font-size=\"14.00\">data=10.000 | grad=10.000</text>\n</g>\n<!-- 9&#45;&gt;6 -->\n<g id=\"edge9\" class=\"edge\">\n<title>9&#45;&gt;6</title>\n<path fill=\"none\" stroke=\"black\" d=\"M165.46,-431.97C209.72,-418.61 269.84,-400.47 307,-389.26\"/>\n<polygon fill=\"black\" stroke=\"black\" points=\"308.27,-392.53 316.83,-386.29 306.25,-385.83 308.27,-392.53\"/>\n</g>\n<!-- 10 -->\n<g id=\"node11\" class=\"node\">\n<title>10</title>\n<polygon fill=\"none\" stroke=\"black\" points=\"445.5,-468 236.5,-468 236.5,-432 445.5,-432 445.5,-468\"/>\n<text text-anchor=\"middle\" x=\"341\" y=\"-446.3\" font-family=\"Times,serif\" font-size=\"14.00\">data=5.000 | grad=20.000</text>\n</g>\n<!-- 10&#45;&gt;6 -->\n<g id=\"edge10\" class=\"edge\">\n<title>10&#45;&gt;6</title>\n<path fill=\"none\" stroke=\"black\" d=\"M341,-431.7C341,-423.98 341,-414.71 341,-406.11\"/>\n<polygon fill=\"black\" stroke=\"black\" points=\"344.5,-406.1 341,-396.1 337.5,-406.1 344.5,-406.1\"/>\n</g>\n<!-- 11 -->\n<g id=\"node12\" class=\"node\">\n<title>11</title>\n<polygon fill=\"none\" stroke=\"black\" points=\"672.5,-468 463.5,-468 463.5,-432 672.5,-432 672.5,-468\"/>\n<text text-anchor=\"middle\" x=\"568\" y=\"-446.3\" font-family=\"Times,serif\" font-size=\"14.00\">data=3.000 | grad=20.000</text>\n</g>\n<!-- 11&#45;&gt;8 -->\n<g id=\"edge11\" class=\"edge\">\n<title>11&#45;&gt;8</title>\n<path fill=\"none\" stroke=\"black\" d=\"M568,-431.7C568,-423.98 568,-414.71 568,-406.11\"/>\n<polygon fill=\"black\" stroke=\"black\" points=\"571.5,-406.1 568,-396.1 564.5,-406.1 571.5,-406.1\"/>\n</g>\n<!-- 12 -->\n<g id=\"node13\" class=\"node\">\n<title>12</title>\n<polygon fill=\"none\" stroke=\"black\" points=\"899.5,-468 690.5,-468 690.5,-432 899.5,-432 899.5,-468\"/>\n<text text-anchor=\"middle\" x=\"795\" y=\"-446.3\" font-family=\"Times,serif\" font-size=\"14.00\">data=10.000 | grad=6.000</text>\n</g>\n<!-- 12&#45;&gt;8 -->\n<g id=\"edge12\" class=\"edge\">\n<title>12&#45;&gt;8</title>\n<path fill=\"none\" stroke=\"black\" d=\"M739.76,-431.97C696.58,-418.65 637.95,-400.57 601.57,-389.35\"/>\n<polygon fill=\"black\" stroke=\"black\" points=\"602.52,-385.98 591.93,-386.38 600.46,-392.67 602.52,-385.98\"/>\n</g>\n</g>\n</svg>\n",
      "text/plain": [
       "<graphviz.graphs.Digraph at 0x7feb706b7e50>"
      ]
     },
     "metadata": {},
     "output_type": "display_data"
    }
   ],
   "source": [
    "ValueBFS(res)\n"
   ]
  },
  {
   "cell_type": "code",
   "execution_count": 284,
   "metadata": {},
   "outputs": [],
   "source": [
    "# or we can use _backward method called in the right order\n",
    "\n",
    "# reset gradients\n",
    "for parameter in parameters:\n",
    "    parameter.grad = 0\n",
    "\n",
    "# initial value\n",
    "res.grad = 1\n",
    "\n",
    "res._backward()\n",
    "z._backward()\n",
    "v._backward()\n",
    "yu._backward()\n",
    "xg._backward()\n",
    "y._backward()\n",
    "u._backward()\n",
    "x._backward()\n",
    "g._backward()\n"
   ]
  },
  {
   "cell_type": "code",
   "execution_count": 285,
   "metadata": {},
   "outputs": [
    {
     "data": {
      "image/svg+xml": "<?xml version=\"1.0\" encoding=\"UTF-8\" standalone=\"no\"?>\n<!DOCTYPE svg PUBLIC \"-//W3C//DTD SVG 1.1//EN\"\n \"http://www.w3.org/Graphics/SVG/1.1/DTD/svg11.dtd\">\n<!-- Generated by graphviz version 2.43.0 (0)\n -->\n<!-- Title: %3 Pages: 1 -->\n<svg width=\"908pt\" height=\"476pt\"\n viewBox=\"0.00 0.00 907.50 476.00\" xmlns=\"http://www.w3.org/2000/svg\" xmlns:xlink=\"http://www.w3.org/1999/xlink\">\n<g id=\"graph0\" class=\"graph\" transform=\"scale(1 1) rotate(0) translate(4 472)\">\n<title>%3</title>\n<polygon fill=\"white\" stroke=\"transparent\" points=\"-4,4 -4,-472 903.5,-472 903.5,4 -4,4\"/>\n<!-- 0 -->\n<g id=\"node1\" class=\"node\">\n<title>0</title>\n<polygon fill=\"none\" stroke=\"black\" points=\"449,-36 231,-36 231,0 449,0 449,-36\"/>\n<text text-anchor=\"middle\" x=\"340\" y=\"-14.3\" font-family=\"Times,serif\" font-size=\"14.00\">data=160.000 | grad=1.000</text>\n</g>\n<!-- 1 -->\n<g id=\"node2\" class=\"node\">\n<title>1</title>\n<ellipse fill=\"none\" stroke=\"black\" cx=\"340\" cy=\"-90\" rx=\"27\" ry=\"18\"/>\n<text text-anchor=\"middle\" x=\"340\" y=\"-86.3\" font-family=\"Times,serif\" font-size=\"14.00\">*</text>\n</g>\n<!-- 1&#45;&gt;0 -->\n<g id=\"edge1\" class=\"edge\">\n<title>1&#45;&gt;0</title>\n<path fill=\"none\" stroke=\"black\" d=\"M340,-71.7C340,-63.98 340,-54.71 340,-46.11\"/>\n<polygon fill=\"black\" stroke=\"black\" points=\"343.5,-46.1 340,-36.1 336.5,-46.1 343.5,-46.1\"/>\n</g>\n<!-- 2 -->\n<g id=\"node3\" class=\"node\">\n<title>2</title>\n<polygon fill=\"none\" stroke=\"black\" points=\"331.5,-180 122.5,-180 122.5,-144 331.5,-144 331.5,-180\"/>\n<text text-anchor=\"middle\" x=\"227\" y=\"-158.3\" font-family=\"Times,serif\" font-size=\"14.00\">data=2.000 | grad=80.000</text>\n</g>\n<!-- 2&#45;&gt;1 -->\n<g id=\"edge2\" class=\"edge\">\n<title>2&#45;&gt;1</title>\n<path fill=\"none\" stroke=\"black\" d=\"M254.64,-143.88C272.11,-133.05 294.62,-119.11 312.13,-108.26\"/>\n<polygon fill=\"black\" stroke=\"black\" points=\"314.12,-111.15 320.78,-102.9 310.44,-105.2 314.12,-111.15\"/>\n</g>\n<!-- 3 -->\n<g id=\"node4\" class=\"node\">\n<title>3</title>\n<polygon fill=\"none\" stroke=\"black\" points=\"558.5,-180 349.5,-180 349.5,-144 558.5,-144 558.5,-180\"/>\n<text text-anchor=\"middle\" x=\"454\" y=\"-158.3\" font-family=\"Times,serif\" font-size=\"14.00\">data=80.000 | grad=2.000</text>\n</g>\n<!-- 3&#45;&gt;1 -->\n<g id=\"edge4\" class=\"edge\">\n<title>3&#45;&gt;1</title>\n<path fill=\"none\" stroke=\"black\" d=\"M426.11,-143.88C408.49,-133.05 385.78,-119.11 368.12,-108.26\"/>\n<polygon fill=\"black\" stroke=\"black\" points=\"369.74,-105.15 359.39,-102.9 366.08,-111.12 369.74,-105.15\"/>\n</g>\n<!-- 4 -->\n<g id=\"node5\" class=\"node\">\n<title>4</title>\n<ellipse fill=\"none\" stroke=\"black\" cx=\"454\" cy=\"-234\" rx=\"27\" ry=\"18\"/>\n<text text-anchor=\"middle\" x=\"454\" y=\"-230.3\" font-family=\"Times,serif\" font-size=\"14.00\">+</text>\n</g>\n<!-- 4&#45;&gt;3 -->\n<g id=\"edge3\" class=\"edge\">\n<title>4&#45;&gt;3</title>\n<path fill=\"none\" stroke=\"black\" d=\"M454,-215.7C454,-207.98 454,-198.71 454,-190.11\"/>\n<polygon fill=\"black\" stroke=\"black\" points=\"457.5,-190.1 454,-180.1 450.5,-190.1 457.5,-190.1\"/>\n</g>\n<!-- 5 -->\n<g id=\"node6\" class=\"node\">\n<title>5</title>\n<polygon fill=\"none\" stroke=\"black\" points=\"445.5,-324 236.5,-324 236.5,-288 445.5,-288 445.5,-324\"/>\n<text text-anchor=\"middle\" x=\"341\" y=\"-302.3\" font-family=\"Times,serif\" font-size=\"14.00\">data=50.000 | grad=2.000</text>\n</g>\n<!-- 5&#45;&gt;4 -->\n<g id=\"edge6\" class=\"edge\">\n<title>5&#45;&gt;4</title>\n<path fill=\"none\" stroke=\"black\" d=\"M368.64,-287.88C386.11,-277.05 408.62,-263.11 426.13,-252.26\"/>\n<polygon fill=\"black\" stroke=\"black\" points=\"428.12,-255.15 434.78,-246.9 424.44,-249.2 428.12,-255.15\"/>\n</g>\n<!-- 6 -->\n<g id=\"node7\" class=\"node\">\n<title>6</title>\n<ellipse fill=\"none\" stroke=\"black\" cx=\"341\" cy=\"-378\" rx=\"27\" ry=\"18\"/>\n<text text-anchor=\"middle\" x=\"341\" y=\"-374.3\" font-family=\"Times,serif\" font-size=\"14.00\">*</text>\n</g>\n<!-- 6&#45;&gt;5 -->\n<g id=\"edge5\" class=\"edge\">\n<title>6&#45;&gt;5</title>\n<path fill=\"none\" stroke=\"black\" d=\"M341,-359.7C341,-351.98 341,-342.71 341,-334.11\"/>\n<polygon fill=\"black\" stroke=\"black\" points=\"344.5,-334.1 341,-324.1 337.5,-334.1 344.5,-334.1\"/>\n</g>\n<!-- 7 -->\n<g id=\"node8\" class=\"node\">\n<title>7</title>\n<polygon fill=\"none\" stroke=\"black\" points=\"672.5,-324 463.5,-324 463.5,-288 672.5,-288 672.5,-324\"/>\n<text text-anchor=\"middle\" x=\"568\" y=\"-302.3\" font-family=\"Times,serif\" font-size=\"14.00\">data=30.000 | grad=2.000</text>\n</g>\n<!-- 7&#45;&gt;4 -->\n<g id=\"edge8\" class=\"edge\">\n<title>7&#45;&gt;4</title>\n<path fill=\"none\" stroke=\"black\" d=\"M540.11,-287.88C522.49,-277.05 499.78,-263.11 482.12,-252.26\"/>\n<polygon fill=\"black\" stroke=\"black\" points=\"483.74,-249.15 473.39,-246.9 480.08,-255.12 483.74,-249.15\"/>\n</g>\n<!-- 8 -->\n<g id=\"node9\" class=\"node\">\n<title>8</title>\n<ellipse fill=\"none\" stroke=\"black\" cx=\"568\" cy=\"-378\" rx=\"27\" ry=\"18\"/>\n<text text-anchor=\"middle\" x=\"568\" y=\"-374.3\" font-family=\"Times,serif\" font-size=\"14.00\">*</text>\n</g>\n<!-- 8&#45;&gt;7 -->\n<g id=\"edge7\" class=\"edge\">\n<title>8&#45;&gt;7</title>\n<path fill=\"none\" stroke=\"black\" d=\"M568,-359.7C568,-351.98 568,-342.71 568,-334.11\"/>\n<polygon fill=\"black\" stroke=\"black\" points=\"571.5,-334.1 568,-324.1 564.5,-334.1 571.5,-334.1\"/>\n</g>\n<!-- 9 -->\n<g id=\"node10\" class=\"node\">\n<title>9</title>\n<polygon fill=\"none\" stroke=\"black\" points=\"218,-468 0,-468 0,-432 218,-432 218,-468\"/>\n<text text-anchor=\"middle\" x=\"109\" y=\"-446.3\" font-family=\"Times,serif\" font-size=\"14.00\">data=10.000 | grad=10.000</text>\n</g>\n<!-- 9&#45;&gt;6 -->\n<g id=\"edge9\" class=\"edge\">\n<title>9&#45;&gt;6</title>\n<path fill=\"none\" stroke=\"black\" d=\"M165.46,-431.97C209.72,-418.61 269.84,-400.47 307,-389.26\"/>\n<polygon fill=\"black\" stroke=\"black\" points=\"308.27,-392.53 316.83,-386.29 306.25,-385.83 308.27,-392.53\"/>\n</g>\n<!-- 10 -->\n<g id=\"node11\" class=\"node\">\n<title>10</title>\n<polygon fill=\"none\" stroke=\"black\" points=\"445.5,-468 236.5,-468 236.5,-432 445.5,-432 445.5,-468\"/>\n<text text-anchor=\"middle\" x=\"341\" y=\"-446.3\" font-family=\"Times,serif\" font-size=\"14.00\">data=5.000 | grad=20.000</text>\n</g>\n<!-- 10&#45;&gt;6 -->\n<g id=\"edge10\" class=\"edge\">\n<title>10&#45;&gt;6</title>\n<path fill=\"none\" stroke=\"black\" d=\"M341,-431.7C341,-423.98 341,-414.71 341,-406.11\"/>\n<polygon fill=\"black\" stroke=\"black\" points=\"344.5,-406.1 341,-396.1 337.5,-406.1 344.5,-406.1\"/>\n</g>\n<!-- 11 -->\n<g id=\"node12\" class=\"node\">\n<title>11</title>\n<polygon fill=\"none\" stroke=\"black\" points=\"672.5,-468 463.5,-468 463.5,-432 672.5,-432 672.5,-468\"/>\n<text text-anchor=\"middle\" x=\"568\" y=\"-446.3\" font-family=\"Times,serif\" font-size=\"14.00\">data=3.000 | grad=20.000</text>\n</g>\n<!-- 11&#45;&gt;8 -->\n<g id=\"edge11\" class=\"edge\">\n<title>11&#45;&gt;8</title>\n<path fill=\"none\" stroke=\"black\" d=\"M568,-431.7C568,-423.98 568,-414.71 568,-406.11\"/>\n<polygon fill=\"black\" stroke=\"black\" points=\"571.5,-406.1 568,-396.1 564.5,-406.1 571.5,-406.1\"/>\n</g>\n<!-- 12 -->\n<g id=\"node13\" class=\"node\">\n<title>12</title>\n<polygon fill=\"none\" stroke=\"black\" points=\"899.5,-468 690.5,-468 690.5,-432 899.5,-432 899.5,-468\"/>\n<text text-anchor=\"middle\" x=\"795\" y=\"-446.3\" font-family=\"Times,serif\" font-size=\"14.00\">data=10.000 | grad=6.000</text>\n</g>\n<!-- 12&#45;&gt;8 -->\n<g id=\"edge12\" class=\"edge\">\n<title>12&#45;&gt;8</title>\n<path fill=\"none\" stroke=\"black\" d=\"M739.76,-431.97C696.58,-418.65 637.95,-400.57 601.57,-389.35\"/>\n<polygon fill=\"black\" stroke=\"black\" points=\"602.52,-385.98 591.93,-386.38 600.46,-392.67 602.52,-385.98\"/>\n</g>\n</g>\n</svg>\n",
      "text/plain": [
       "<graphviz.graphs.Digraph at 0x7feb706b5150>"
      ]
     },
     "metadata": {},
     "output_type": "display_data"
    }
   ],
   "source": [
    "\n",
    "ValueBFS(res)"
   ]
  },
  {
   "cell_type": "code",
   "execution_count": 310,
   "metadata": {},
   "outputs": [
    {
     "data": {
      "image/svg+xml": "<?xml version=\"1.0\" encoding=\"UTF-8\" standalone=\"no\"?>\n<!DOCTYPE svg PUBLIC \"-//W3C//DTD SVG 1.1//EN\"\n \"http://www.w3.org/Graphics/SVG/1.1/DTD/svg11.dtd\">\n<!-- Generated by graphviz version 2.43.0 (0)\n -->\n<!-- Title: %3 Pages: 1 -->\n<svg width=\"714pt\" height=\"1052pt\"\n viewBox=\"0.00 0.00 714.00 1052.00\" xmlns=\"http://www.w3.org/2000/svg\" xmlns:xlink=\"http://www.w3.org/1999/xlink\">\n<g id=\"graph0\" class=\"graph\" transform=\"scale(1 1) rotate(0) translate(4 1048)\">\n<title>%3</title>\n<polygon fill=\"white\" stroke=\"transparent\" points=\"-4,4 -4,-1048 710,-1048 710,4 -4,4\"/>\n<!-- 0 -->\n<g id=\"node1\" class=\"node\">\n<title>0</title>\n<polygon fill=\"none\" stroke=\"black\" points=\"448.5,-36 235.5,-36 235.5,0 448.5,0 448.5,-36\"/>\n<text text-anchor=\"middle\" x=\"342\" y=\"-14.3\" font-family=\"Times,serif\" font-size=\"14.00\">data=&#45;48.000 | grad=0.000</text>\n</g>\n<!-- 1 -->\n<g id=\"node2\" class=\"node\">\n<title>1</title>\n<ellipse fill=\"none\" stroke=\"black\" cx=\"342\" cy=\"-90\" rx=\"27\" ry=\"18\"/>\n<text text-anchor=\"middle\" x=\"342\" y=\"-86.3\" font-family=\"Times,serif\" font-size=\"14.00\">*</text>\n</g>\n<!-- 1&#45;&gt;0 -->\n<g id=\"edge1\" class=\"edge\">\n<title>1&#45;&gt;0</title>\n<path fill=\"none\" stroke=\"black\" d=\"M342,-71.7C342,-63.98 342,-54.71 342,-46.11\"/>\n<polygon fill=\"black\" stroke=\"black\" points=\"345.5,-46.1 342,-36.1 338.5,-46.1 345.5,-46.1\"/>\n</g>\n<!-- 2 -->\n<g id=\"node3\" class=\"node\">\n<title>2</title>\n<polygon fill=\"none\" stroke=\"black\" points=\"354.5,-396 141.5,-396 141.5,-360 354.5,-360 354.5,-396\"/>\n<text text-anchor=\"middle\" x=\"248\" y=\"-374.3\" font-family=\"Times,serif\" font-size=\"14.00\">data=&#45;39.000 | grad=0.000</text>\n</g>\n<!-- 2&#45;&gt;1 -->\n<g id=\"edge3\" class=\"edge\">\n<title>2&#45;&gt;1</title>\n<path fill=\"none\" stroke=\"black\" d=\"M250.68,-359.75C257.21,-320.31 275.85,-221.01 309,-144 313.26,-134.1 319.19,-123.89 324.85,-115.11\"/>\n<polygon fill=\"black\" stroke=\"black\" points=\"327.93,-116.81 330.57,-106.55 322.11,-112.92 327.93,-116.81\"/>\n</g>\n<!-- 3 -->\n<g id=\"node4\" class=\"node\">\n<title>3</title>\n<ellipse fill=\"none\" stroke=\"black\" cx=\"199\" cy=\"-522\" rx=\"27\" ry=\"18\"/>\n<text text-anchor=\"middle\" x=\"199\" y=\"-518.3\" font-family=\"Times,serif\" font-size=\"14.00\">*</text>\n</g>\n<!-- 3&#45;&gt;2 -->\n<g id=\"edge2\" class=\"edge\">\n<title>3&#45;&gt;2</title>\n<path fill=\"none\" stroke=\"black\" d=\"M201.08,-503.83C203.66,-485.58 208.86,-456.08 218,-432 221.53,-422.71 226.51,-413.09 231.4,-404.65\"/>\n<polygon fill=\"black\" stroke=\"black\" points=\"234.44,-406.38 236.6,-396.01 228.44,-402.77 234.44,-406.38\"/>\n</g>\n<!-- 4 -->\n<g id=\"node5\" class=\"node\">\n<title>4</title>\n<polygon fill=\"none\" stroke=\"black\" points=\"518,-180 318,-180 318,-144 518,-144 518,-180\"/>\n<text text-anchor=\"middle\" x=\"418\" y=\"-158.3\" font-family=\"Times,serif\" font-size=\"14.00\">data=1.231 | grad=0.000</text>\n</g>\n<!-- 4&#45;&gt;1 -->\n<g id=\"edge5\" class=\"edge\">\n<title>4&#45;&gt;1</title>\n<path fill=\"none\" stroke=\"black\" d=\"M399.21,-143.7C388.89,-134.18 375.99,-122.3 365.05,-112.23\"/>\n<polygon fill=\"black\" stroke=\"black\" points=\"367.23,-109.48 357.5,-105.28 362.49,-114.63 367.23,-109.48\"/>\n</g>\n<!-- 5 -->\n<g id=\"node6\" class=\"node\">\n<title>5</title>\n<ellipse fill=\"none\" stroke=\"black\" cx=\"448\" cy=\"-234\" rx=\"27\" ry=\"18\"/>\n<text text-anchor=\"middle\" x=\"448\" y=\"-230.3\" font-family=\"Times,serif\" font-size=\"14.00\">*</text>\n</g>\n<!-- 5&#45;&gt;4 -->\n<g id=\"edge4\" class=\"edge\">\n<title>5&#45;&gt;4</title>\n<path fill=\"none\" stroke=\"black\" d=\"M440.89,-216.41C437.48,-208.45 433.31,-198.72 429.47,-189.76\"/>\n<polygon fill=\"black\" stroke=\"black\" points=\"432.63,-188.26 425.48,-180.45 426.2,-191.02 432.63,-188.26\"/>\n</g>\n<!-- 6 -->\n<g id=\"node7\" class=\"node\">\n<title>6</title>\n<polygon fill=\"none\" stroke=\"black\" points=\"431.5,-612 222.5,-612 222.5,-576 431.5,-576 431.5,-612\"/>\n<text text-anchor=\"middle\" x=\"327\" y=\"-590.3\" font-family=\"Times,serif\" font-size=\"14.00\">data=39.000 | grad=0.000</text>\n</g>\n<!-- 6&#45;&gt;3 -->\n<g id=\"edge7\" class=\"edge\">\n<title>6&#45;&gt;3</title>\n<path fill=\"none\" stroke=\"black\" d=\"M295.69,-575.88C275.11,-564.62 248.38,-550 228.24,-538.99\"/>\n<polygon fill=\"black\" stroke=\"black\" points=\"229.67,-535.78 219.22,-534.06 226.31,-541.93 229.67,-535.78\"/>\n</g>\n<!-- 20 -->\n<g id=\"node21\" class=\"node\">\n<title>20</title>\n<ellipse fill=\"none\" stroke=\"black\" cx=\"327\" cy=\"-522\" rx=\"28.7\" ry=\"18\"/>\n<text text-anchor=\"middle\" x=\"327\" y=\"-518.3\" font-family=\"Times,serif\" font-size=\"14.00\">**&#45;1</text>\n</g>\n<!-- 6&#45;&gt;20 -->\n<g id=\"edge22\" class=\"edge\">\n<title>6&#45;&gt;20</title>\n<path fill=\"none\" stroke=\"black\" d=\"M327,-575.7C327,-567.98 327,-558.71 327,-550.11\"/>\n<polygon fill=\"black\" stroke=\"black\" points=\"330.5,-550.1 327,-540.1 323.5,-550.1 330.5,-550.1\"/>\n</g>\n<!-- 7 -->\n<g id=\"node8\" class=\"node\">\n<title>7</title>\n<ellipse fill=\"none\" stroke=\"black\" cx=\"327\" cy=\"-666\" rx=\"27\" ry=\"18\"/>\n<text text-anchor=\"middle\" x=\"327\" y=\"-662.3\" font-family=\"Times,serif\" font-size=\"14.00\">+</text>\n</g>\n<!-- 7&#45;&gt;6 -->\n<g id=\"edge6\" class=\"edge\">\n<title>7&#45;&gt;6</title>\n<path fill=\"none\" stroke=\"black\" d=\"M327,-647.7C327,-639.98 327,-630.71 327,-622.11\"/>\n<polygon fill=\"black\" stroke=\"black\" points=\"330.5,-622.1 327,-612.1 323.5,-622.1 330.5,-622.1\"/>\n</g>\n<!-- 8 -->\n<g id=\"node9\" class=\"node\">\n<title>8</title>\n<polygon fill=\"none\" stroke=\"black\" points=\"204,-612 0,-612 0,-576 204,-576 204,-612\"/>\n<text text-anchor=\"middle\" x=\"102\" y=\"-590.3\" font-family=\"Times,serif\" font-size=\"14.00\">data=&#45;1.000 | grad=0.000</text>\n</g>\n<!-- 8&#45;&gt;3 -->\n<g id=\"edge8\" class=\"edge\">\n<title>8&#45;&gt;3</title>\n<path fill=\"none\" stroke=\"black\" d=\"M125.98,-575.7C140.33,-565.34 158.57,-552.18 173.23,-541.6\"/>\n<polygon fill=\"black\" stroke=\"black\" points=\"175.33,-544.4 181.39,-535.71 171.23,-538.72 175.33,-544.4\"/>\n</g>\n<!-- 9 -->\n<g id=\"node10\" class=\"node\">\n<title>9</title>\n<polygon fill=\"none\" stroke=\"black\" points=\"597,-900 397,-900 397,-864 597,-864 597,-900\"/>\n<text text-anchor=\"middle\" x=\"497\" y=\"-878.3\" font-family=\"Times,serif\" font-size=\"14.00\">data=6.000 | grad=0.000</text>\n</g>\n<!-- 9&#45;&gt;5 -->\n<g id=\"edge10\" class=\"edge\">\n<title>9&#45;&gt;5</title>\n<path fill=\"none\" stroke=\"black\" d=\"M549.33,-863.92C601.21,-843.31 673,-803.19 673,-739 673,-739 673,-739 673,-377 673,-288.83 547.92,-253.2 484.28,-240.78\"/>\n<polygon fill=\"black\" stroke=\"black\" points=\"484.72,-237.3 474.25,-238.91 483.44,-244.18 484.72,-237.3\"/>\n</g>\n<!-- 14 -->\n<g id=\"node15\" class=\"node\">\n<title>14</title>\n<ellipse fill=\"none\" stroke=\"black\" cx=\"470\" cy=\"-810\" rx=\"27\" ry=\"18\"/>\n<text text-anchor=\"middle\" x=\"470\" y=\"-806.3\" font-family=\"Times,serif\" font-size=\"14.00\">**2</text>\n</g>\n<!-- 9&#45;&gt;14 -->\n<g id=\"edge21\" class=\"edge\">\n<title>9&#45;&gt;14</title>\n<path fill=\"none\" stroke=\"black\" d=\"M490.33,-863.7C487.24,-855.7 483.51,-846.02 480.09,-837.15\"/>\n<polygon fill=\"black\" stroke=\"black\" points=\"483.28,-835.69 476.41,-827.62 476.74,-838.21 483.28,-835.69\"/>\n</g>\n<!-- 10 -->\n<g id=\"node11\" class=\"node\">\n<title>10</title>\n<ellipse fill=\"none\" stroke=\"black\" cx=\"497\" cy=\"-954\" rx=\"27\" ry=\"18\"/>\n<text text-anchor=\"middle\" x=\"497\" y=\"-950.3\" font-family=\"Times,serif\" font-size=\"14.00\">+</text>\n</g>\n<!-- 10&#45;&gt;9 -->\n<g id=\"edge9\" class=\"edge\">\n<title>10&#45;&gt;9</title>\n<path fill=\"none\" stroke=\"black\" d=\"M497,-935.7C497,-927.98 497,-918.71 497,-910.11\"/>\n<polygon fill=\"black\" stroke=\"black\" points=\"500.5,-910.1 497,-900.1 493.5,-910.1 500.5,-910.1\"/>\n</g>\n<!-- 11 -->\n<g id=\"node12\" class=\"node\">\n<title>11</title>\n<polygon fill=\"none\" stroke=\"black\" points=\"548,-324 348,-324 348,-288 548,-288 548,-324\"/>\n<text text-anchor=\"middle\" x=\"448\" y=\"-302.3\" font-family=\"Times,serif\" font-size=\"14.00\">data=0.205 | grad=0.000</text>\n</g>\n<!-- 11&#45;&gt;5 -->\n<g id=\"edge12\" class=\"edge\">\n<title>11&#45;&gt;5</title>\n<path fill=\"none\" stroke=\"black\" d=\"M448,-287.7C448,-279.98 448,-270.71 448,-262.11\"/>\n<polygon fill=\"black\" stroke=\"black\" points=\"451.5,-262.1 448,-252.1 444.5,-262.1 451.5,-262.1\"/>\n</g>\n<!-- 12 -->\n<g id=\"node13\" class=\"node\">\n<title>12</title>\n<ellipse fill=\"none\" stroke=\"black\" cx=\"448\" cy=\"-378\" rx=\"27\" ry=\"18\"/>\n<text text-anchor=\"middle\" x=\"448\" y=\"-374.3\" font-family=\"Times,serif\" font-size=\"14.00\">*</text>\n</g>\n<!-- 12&#45;&gt;11 -->\n<g id=\"edge11\" class=\"edge\">\n<title>12&#45;&gt;11</title>\n<path fill=\"none\" stroke=\"black\" d=\"M448,-359.7C448,-351.98 448,-342.71 448,-334.11\"/>\n<polygon fill=\"black\" stroke=\"black\" points=\"451.5,-334.1 448,-324.1 444.5,-334.1 451.5,-334.1\"/>\n</g>\n<!-- 13 -->\n<g id=\"node14\" class=\"node\">\n<title>13</title>\n<polygon fill=\"none\" stroke=\"black\" points=\"426.5,-756 217.5,-756 217.5,-720 426.5,-720 426.5,-756\"/>\n<text text-anchor=\"middle\" x=\"322\" y=\"-734.3\" font-family=\"Times,serif\" font-size=\"14.00\">data=36.000 | grad=0.000</text>\n</g>\n<!-- 13&#45;&gt;7 -->\n<g id=\"edge14\" class=\"edge\">\n<title>13&#45;&gt;7</title>\n<path fill=\"none\" stroke=\"black\" d=\"M323.24,-719.7C323.79,-711.98 324.45,-702.71 325.06,-694.11\"/>\n<polygon fill=\"black\" stroke=\"black\" points=\"328.56,-694.33 325.78,-684.1 321.57,-693.83 328.56,-694.33\"/>\n</g>\n<!-- 14&#45;&gt;13 -->\n<g id=\"edge13\" class=\"edge\">\n<title>14&#45;&gt;13</title>\n<path fill=\"none\" stroke=\"black\" d=\"M448.48,-798.82C427.32,-788.82 394.38,-773.23 367.41,-760.48\"/>\n<polygon fill=\"black\" stroke=\"black\" points=\"368.69,-757.21 358.16,-756.1 365.7,-763.54 368.69,-757.21\"/>\n</g>\n<!-- 15 -->\n<g id=\"node16\" class=\"node\">\n<title>15</title>\n<polygon fill=\"none\" stroke=\"black\" points=\"645,-756 445,-756 445,-720 645,-720 645,-756\"/>\n<text text-anchor=\"middle\" x=\"545\" y=\"-734.3\" font-family=\"Times,serif\" font-size=\"14.00\">data=3.000 | grad=0.000</text>\n</g>\n<!-- 15&#45;&gt;7 -->\n<g id=\"edge15\" class=\"edge\">\n<title>15&#45;&gt;7</title>\n<path fill=\"none\" stroke=\"black\" d=\"M491.95,-719.97C451,-706.82 395.59,-689.02 360.57,-677.78\"/>\n<polygon fill=\"black\" stroke=\"black\" points=\"361.42,-674.38 350.83,-674.65 359.28,-681.04 361.42,-674.38\"/>\n</g>\n<!-- 16 -->\n<g id=\"node17\" class=\"node\">\n<title>16</title>\n<polygon fill=\"none\" stroke=\"black\" points=\"488,-1044 288,-1044 288,-1008 488,-1008 488,-1044\"/>\n<text text-anchor=\"middle\" x=\"388\" y=\"-1022.3\" font-family=\"Times,serif\" font-size=\"14.00\">data=1.000 | grad=0.000</text>\n</g>\n<!-- 16&#45;&gt;10 -->\n<g id=\"edge16\" class=\"edge\">\n<title>16&#45;&gt;10</title>\n<path fill=\"none\" stroke=\"black\" d=\"M414.66,-1007.88C431.26,-997.22 452.55,-983.54 469.33,-972.77\"/>\n<polygon fill=\"black\" stroke=\"black\" points=\"471.6,-975.47 478.13,-967.12 467.82,-969.58 471.6,-975.47\"/>\n</g>\n<!-- 17 -->\n<g id=\"node18\" class=\"node\">\n<title>17</title>\n<polygon fill=\"none\" stroke=\"black\" points=\"706,-1044 506,-1044 506,-1008 706,-1008 706,-1044\"/>\n<text text-anchor=\"middle\" x=\"606\" y=\"-1022.3\" font-family=\"Times,serif\" font-size=\"14.00\">data=5.000 | grad=0.000</text>\n</g>\n<!-- 17&#45;&gt;10 -->\n<g id=\"edge17\" class=\"edge\">\n<title>17&#45;&gt;10</title>\n<path fill=\"none\" stroke=\"black\" d=\"M579.34,-1007.88C562.74,-997.22 541.45,-983.54 524.67,-972.77\"/>\n<polygon fill=\"black\" stroke=\"black\" points=\"526.18,-969.58 515.87,-967.12 522.4,-975.47 526.18,-969.58\"/>\n</g>\n<!-- 18 -->\n<g id=\"node19\" class=\"node\">\n<title>18</title>\n<polygon fill=\"none\" stroke=\"black\" points=\"645,-468 445,-468 445,-432 645,-432 645,-468\"/>\n<text text-anchor=\"middle\" x=\"545\" y=\"-446.3\" font-family=\"Times,serif\" font-size=\"14.00\">data=8.000 | grad=0.000</text>\n</g>\n<!-- 18&#45;&gt;12 -->\n<g id=\"edge18\" class=\"edge\">\n<title>18&#45;&gt;12</title>\n<path fill=\"none\" stroke=\"black\" d=\"M521.02,-431.7C506.67,-421.34 488.43,-408.18 473.77,-397.6\"/>\n<polygon fill=\"black\" stroke=\"black\" points=\"475.77,-394.72 465.61,-391.71 471.67,-400.4 475.77,-394.72\"/>\n</g>\n<!-- 19 -->\n<g id=\"node20\" class=\"node\">\n<title>19</title>\n<polygon fill=\"none\" stroke=\"black\" points=\"427,-468 227,-468 227,-432 427,-432 427,-468\"/>\n<text text-anchor=\"middle\" x=\"327\" y=\"-446.3\" font-family=\"Times,serif\" font-size=\"14.00\">data=0.026 | grad=0.000</text>\n</g>\n<!-- 19&#45;&gt;12 -->\n<g id=\"edge20\" class=\"edge\">\n<title>19&#45;&gt;12</title>\n<path fill=\"none\" stroke=\"black\" d=\"M356.6,-431.88C375.72,-420.81 400.47,-406.5 419.39,-395.55\"/>\n<polygon fill=\"black\" stroke=\"black\" points=\"421.26,-398.51 428.16,-390.48 417.75,-392.46 421.26,-398.51\"/>\n</g>\n<!-- 20&#45;&gt;19 -->\n<g id=\"edge19\" class=\"edge\">\n<title>20&#45;&gt;19</title>\n<path fill=\"none\" stroke=\"black\" d=\"M327,-503.7C327,-495.98 327,-486.71 327,-478.11\"/>\n<polygon fill=\"black\" stroke=\"black\" points=\"330.5,-478.1 327,-468.1 323.5,-478.1 330.5,-478.1\"/>\n</g>\n</g>\n</svg>\n",
      "text/plain": [
       "<graphviz.graphs.Digraph at 0x7feb7b623550>"
      ]
     },
     "metadata": {},
     "output_type": "display_data"
    }
   ],
   "source": [
    "# Adding more arithmetic operations. Tests\n",
    "\n",
    "x = Value(5) + Value(1)\n",
    "y = x ** 2 + 3\n",
    "zy = Value(8) / y\n",
    "zxc = zy * x * -y\n",
    "ValueBFS(zxc)"
   ]
  },
  {
   "cell_type": "code",
   "execution_count": 319,
   "metadata": {},
   "outputs": [
    {
     "data": {
      "image/svg+xml": "<?xml version=\"1.0\" encoding=\"UTF-8\" standalone=\"no\"?>\n<!DOCTYPE svg PUBLIC \"-//W3C//DTD SVG 1.1//EN\"\n \"http://www.w3.org/Graphics/SVG/1.1/DTD/svg11.dtd\">\n<!-- Generated by graphviz version 2.43.0 (0)\n -->\n<!-- Title: %3 Pages: 1 -->\n<svg width=\"583pt\" height=\"476pt\"\n viewBox=\"0.00 0.00 583.00 476.00\" xmlns=\"http://www.w3.org/2000/svg\" xmlns:xlink=\"http://www.w3.org/1999/xlink\">\n<g id=\"graph0\" class=\"graph\" transform=\"scale(1 1) rotate(0) translate(4 472)\">\n<title>%3</title>\n<polygon fill=\"white\" stroke=\"transparent\" points=\"-4,4 -4,-472 579,-472 579,4 -4,4\"/>\n<!-- 0 -->\n<g id=\"node1\" class=\"node\">\n<title>0</title>\n<polygon fill=\"none\" stroke=\"black\" points=\"320,-36 102,-36 102,0 320,0 320,-36\"/>\n<text text-anchor=\"middle\" x=\"211\" y=\"-14.3\" font-family=\"Times,serif\" font-size=\"14.00\">data=240.000 | grad=0.000</text>\n</g>\n<!-- 1 -->\n<g id=\"node2\" class=\"node\">\n<title>1</title>\n<ellipse fill=\"none\" stroke=\"black\" cx=\"211\" cy=\"-90\" rx=\"27\" ry=\"18\"/>\n<text text-anchor=\"middle\" x=\"211\" y=\"-86.3\" font-family=\"Times,serif\" font-size=\"14.00\">*</text>\n</g>\n<!-- 1&#45;&gt;0 -->\n<g id=\"edge1\" class=\"edge\">\n<title>1&#45;&gt;0</title>\n<path fill=\"none\" stroke=\"black\" d=\"M211,-71.7C211,-63.98 211,-54.71 211,-46.11\"/>\n<polygon fill=\"black\" stroke=\"black\" points=\"214.5,-46.1 211,-36.1 207.5,-46.1 214.5,-46.1\"/>\n</g>\n<!-- 2 -->\n<g id=\"node3\" class=\"node\">\n<title>2</title>\n<polygon fill=\"none\" stroke=\"black\" points=\"200,-180 0,-180 0,-144 200,-144 200,-180\"/>\n<text text-anchor=\"middle\" x=\"100\" y=\"-158.3\" font-family=\"Times,serif\" font-size=\"14.00\">data=5.000 | grad=0.000</text>\n</g>\n<!-- 2&#45;&gt;1 -->\n<g id=\"edge2\" class=\"edge\">\n<title>2&#45;&gt;1</title>\n<path fill=\"none\" stroke=\"black\" d=\"M127.15,-143.88C144.32,-133.05 166.42,-119.11 183.62,-108.26\"/>\n<polygon fill=\"black\" stroke=\"black\" points=\"185.53,-111.2 192.12,-102.9 181.8,-105.28 185.53,-111.2\"/>\n</g>\n<!-- 3 -->\n<g id=\"node4\" class=\"node\">\n<title>3</title>\n<polygon fill=\"none\" stroke=\"black\" points=\"427.5,-180 218.5,-180 218.5,-144 427.5,-144 427.5,-180\"/>\n<text text-anchor=\"middle\" x=\"323\" y=\"-158.3\" font-family=\"Times,serif\" font-size=\"14.00\">data=48.000 | grad=0.000</text>\n</g>\n<!-- 3&#45;&gt;1 -->\n<g id=\"edge4\" class=\"edge\">\n<title>3&#45;&gt;1</title>\n<path fill=\"none\" stroke=\"black\" d=\"M295.6,-143.88C278.29,-133.05 255.98,-119.11 238.62,-108.26\"/>\n<polygon fill=\"black\" stroke=\"black\" points=\"240.38,-105.24 230.05,-102.9 236.67,-111.17 240.38,-105.24\"/>\n</g>\n<!-- 4 -->\n<g id=\"node5\" class=\"node\">\n<title>4</title>\n<ellipse fill=\"none\" stroke=\"black\" cx=\"323\" cy=\"-234\" rx=\"27\" ry=\"18\"/>\n<text text-anchor=\"middle\" x=\"323\" y=\"-230.3\" font-family=\"Times,serif\" font-size=\"14.00\">*</text>\n</g>\n<!-- 4&#45;&gt;3 -->\n<g id=\"edge3\" class=\"edge\">\n<title>4&#45;&gt;3</title>\n<path fill=\"none\" stroke=\"black\" d=\"M323,-215.7C323,-207.98 323,-198.71 323,-190.11\"/>\n<polygon fill=\"black\" stroke=\"black\" points=\"326.5,-190.1 323,-180.1 319.5,-190.1 326.5,-190.1\"/>\n</g>\n<!-- 5 -->\n<g id=\"node6\" class=\"node\">\n<title>5</title>\n<polygon fill=\"none\" stroke=\"black\" points=\"494.5,-324 285.5,-324 285.5,-288 494.5,-288 494.5,-324\"/>\n<text text-anchor=\"middle\" x=\"390\" y=\"-302.3\" font-family=\"Times,serif\" font-size=\"14.00\">data=12.000 | grad=0.000</text>\n</g>\n<!-- 5&#45;&gt;4 -->\n<g id=\"edge6\" class=\"edge\">\n<title>5&#45;&gt;4</title>\n<path fill=\"none\" stroke=\"black\" d=\"M373.44,-287.7C364.63,-278.5 353.71,-267.08 344.28,-257.23\"/>\n<polygon fill=\"black\" stroke=\"black\" points=\"346.55,-254.54 337.11,-249.74 341.49,-259.38 346.55,-254.54\"/>\n</g>\n<!-- 6 -->\n<g id=\"node7\" class=\"node\">\n<title>6</title>\n<ellipse fill=\"none\" stroke=\"black\" cx=\"390\" cy=\"-378\" rx=\"27\" ry=\"18\"/>\n<text text-anchor=\"middle\" x=\"390\" y=\"-374.3\" font-family=\"Times,serif\" font-size=\"14.00\">*</text>\n</g>\n<!-- 6&#45;&gt;5 -->\n<g id=\"edge5\" class=\"edge\">\n<title>6&#45;&gt;5</title>\n<path fill=\"none\" stroke=\"black\" d=\"M390,-359.7C390,-351.98 390,-342.71 390,-334.11\"/>\n<polygon fill=\"black\" stroke=\"black\" points=\"393.5,-334.1 390,-324.1 386.5,-334.1 393.5,-334.1\"/>\n</g>\n<!-- 7 -->\n<g id=\"node8\" class=\"node\">\n<title>7</title>\n<polygon fill=\"none\" stroke=\"black\" points=\"357,-468 157,-468 157,-432 357,-432 357,-468\"/>\n<text text-anchor=\"middle\" x=\"257\" y=\"-446.3\" font-family=\"Times,serif\" font-size=\"14.00\">data=4.000 | grad=0.000</text>\n</g>\n<!-- 7&#45;&gt;4 -->\n<g id=\"edge7\" class=\"edge\">\n<title>7&#45;&gt;4</title>\n<path fill=\"none\" stroke=\"black\" d=\"M255.75,-431.66C254.25,-401.16 254.24,-336.54 276,-288 281.42,-275.9 290.62,-264.59 299.44,-255.56\"/>\n<polygon fill=\"black\" stroke=\"black\" points=\"301.94,-258.01 306.67,-248.53 297.06,-252.99 301.94,-258.01\"/>\n</g>\n<!-- 7&#45;&gt;6 -->\n<g id=\"edge9\" class=\"edge\">\n<title>7&#45;&gt;6</title>\n<path fill=\"none\" stroke=\"black\" d=\"M289.54,-431.88C311.14,-420.5 339.29,-405.69 360.29,-394.64\"/>\n<polygon fill=\"black\" stroke=\"black\" points=\"362.17,-397.6 369.39,-389.85 358.91,-391.41 362.17,-397.6\"/>\n</g>\n<!-- 8 -->\n<g id=\"node9\" class=\"node\">\n<title>8</title>\n<polygon fill=\"none\" stroke=\"black\" points=\"575,-468 375,-468 375,-432 575,-432 575,-468\"/>\n<text text-anchor=\"middle\" x=\"475\" y=\"-446.3\" font-family=\"Times,serif\" font-size=\"14.00\">data=3.000 | grad=0.000</text>\n</g>\n<!-- 8&#45;&gt;6 -->\n<g id=\"edge8\" class=\"edge\">\n<title>8&#45;&gt;6</title>\n<path fill=\"none\" stroke=\"black\" d=\"M453.99,-431.7C441.97,-421.8 426.84,-409.34 414.31,-399.02\"/>\n<polygon fill=\"black\" stroke=\"black\" points=\"416.46,-396.25 406.51,-392.6 412.01,-401.66 416.46,-396.25\"/>\n</g>\n</g>\n</svg>\n",
      "text/plain": [
       "<graphviz.graphs.Digraph at 0x7feb7b621f00>"
      ]
     },
     "metadata": {},
     "output_type": "display_data"
    },
    {
     "data": {
      "image/svg+xml": "<?xml version=\"1.0\" encoding=\"UTF-8\" standalone=\"no\"?>\n<!DOCTYPE svg PUBLIC \"-//W3C//DTD SVG 1.1//EN\"\n \"http://www.w3.org/Graphics/SVG/1.1/DTD/svg11.dtd\">\n<!-- Generated by graphviz version 2.43.0 (0)\n -->\n<!-- Title: %3 Pages: 1 -->\n<svg width=\"608pt\" height=\"476pt\"\n viewBox=\"0.00 0.00 608.00 476.00\" xmlns=\"http://www.w3.org/2000/svg\" xmlns:xlink=\"http://www.w3.org/1999/xlink\">\n<g id=\"graph0\" class=\"graph\" transform=\"scale(1 1) rotate(0) translate(4 472)\">\n<title>%3</title>\n<polygon fill=\"white\" stroke=\"transparent\" points=\"-4,4 -4,-472 604,-472 604,4 -4,4\"/>\n<!-- 0 -->\n<g id=\"node1\" class=\"node\">\n<title>0</title>\n<polygon fill=\"none\" stroke=\"black\" points=\"326.5,-36 108.5,-36 108.5,0 326.5,0 326.5,-36\"/>\n<text text-anchor=\"middle\" x=\"217.5\" y=\"-14.3\" font-family=\"Times,serif\" font-size=\"14.00\">data=240.000 | grad=1.000</text>\n</g>\n<!-- 1 -->\n<g id=\"node2\" class=\"node\">\n<title>1</title>\n<ellipse fill=\"none\" stroke=\"black\" cx=\"217.5\" cy=\"-90\" rx=\"27\" ry=\"18\"/>\n<text text-anchor=\"middle\" x=\"217.5\" y=\"-86.3\" font-family=\"Times,serif\" font-size=\"14.00\">*</text>\n</g>\n<!-- 1&#45;&gt;0 -->\n<g id=\"edge1\" class=\"edge\">\n<title>1&#45;&gt;0</title>\n<path fill=\"none\" stroke=\"black\" d=\"M217.5,-71.7C217.5,-63.98 217.5,-54.71 217.5,-46.11\"/>\n<polygon fill=\"black\" stroke=\"black\" points=\"221,-46.1 217.5,-36.1 214,-46.1 221,-46.1\"/>\n</g>\n<!-- 2 -->\n<g id=\"node3\" class=\"node\">\n<title>2</title>\n<polygon fill=\"none\" stroke=\"black\" points=\"209,-180 0,-180 0,-144 209,-144 209,-180\"/>\n<text text-anchor=\"middle\" x=\"104.5\" y=\"-158.3\" font-family=\"Times,serif\" font-size=\"14.00\">data=5.000 | grad=48.000</text>\n</g>\n<!-- 2&#45;&gt;1 -->\n<g id=\"edge2\" class=\"edge\">\n<title>2&#45;&gt;1</title>\n<path fill=\"none\" stroke=\"black\" d=\"M132.14,-143.88C149.61,-133.05 172.12,-119.11 189.63,-108.26\"/>\n<polygon fill=\"black\" stroke=\"black\" points=\"191.62,-111.15 198.28,-102.9 187.94,-105.2 191.62,-111.15\"/>\n</g>\n<!-- 3 -->\n<g id=\"node4\" class=\"node\">\n<title>3</title>\n<polygon fill=\"none\" stroke=\"black\" points=\"436,-180 227,-180 227,-144 436,-144 436,-180\"/>\n<text text-anchor=\"middle\" x=\"331.5\" y=\"-158.3\" font-family=\"Times,serif\" font-size=\"14.00\">data=48.000 | grad=5.000</text>\n</g>\n<!-- 3&#45;&gt;1 -->\n<g id=\"edge4\" class=\"edge\">\n<title>3&#45;&gt;1</title>\n<path fill=\"none\" stroke=\"black\" d=\"M303.61,-143.88C285.99,-133.05 263.28,-119.11 245.62,-108.26\"/>\n<polygon fill=\"black\" stroke=\"black\" points=\"247.24,-105.15 236.89,-102.9 243.58,-111.12 247.24,-105.15\"/>\n</g>\n<!-- 4 -->\n<g id=\"node5\" class=\"node\">\n<title>4</title>\n<ellipse fill=\"none\" stroke=\"black\" cx=\"331.5\" cy=\"-234\" rx=\"27\" ry=\"18\"/>\n<text text-anchor=\"middle\" x=\"331.5\" y=\"-230.3\" font-family=\"Times,serif\" font-size=\"14.00\">*</text>\n</g>\n<!-- 4&#45;&gt;3 -->\n<g id=\"edge3\" class=\"edge\">\n<title>4&#45;&gt;3</title>\n<path fill=\"none\" stroke=\"black\" d=\"M331.5,-215.7C331.5,-207.98 331.5,-198.71 331.5,-190.11\"/>\n<polygon fill=\"black\" stroke=\"black\" points=\"335,-190.1 331.5,-180.1 328,-190.1 335,-190.1\"/>\n</g>\n<!-- 5 -->\n<g id=\"node6\" class=\"node\">\n<title>5</title>\n<polygon fill=\"none\" stroke=\"black\" points=\"509.5,-324 291.5,-324 291.5,-288 509.5,-288 509.5,-324\"/>\n<text text-anchor=\"middle\" x=\"400.5\" y=\"-302.3\" font-family=\"Times,serif\" font-size=\"14.00\">data=12.000 | grad=20.000</text>\n</g>\n<!-- 5&#45;&gt;4 -->\n<g id=\"edge6\" class=\"edge\">\n<title>5&#45;&gt;4</title>\n<path fill=\"none\" stroke=\"black\" d=\"M383.44,-287.7C374.28,-278.41 362.9,-266.86 353.13,-256.94\"/>\n<polygon fill=\"black\" stroke=\"black\" points=\"355.54,-254.4 346.03,-249.74 350.56,-259.32 355.54,-254.4\"/>\n</g>\n<!-- 6 -->\n<g id=\"node7\" class=\"node\">\n<title>6</title>\n<ellipse fill=\"none\" stroke=\"black\" cx=\"400.5\" cy=\"-378\" rx=\"27\" ry=\"18\"/>\n<text text-anchor=\"middle\" x=\"400.5\" y=\"-374.3\" font-family=\"Times,serif\" font-size=\"14.00\">*</text>\n</g>\n<!-- 6&#45;&gt;5 -->\n<g id=\"edge5\" class=\"edge\">\n<title>6&#45;&gt;5</title>\n<path fill=\"none\" stroke=\"black\" d=\"M400.5,-359.7C400.5,-351.98 400.5,-342.71 400.5,-334.11\"/>\n<polygon fill=\"black\" stroke=\"black\" points=\"404,-334.1 400.5,-324.1 397,-334.1 404,-334.1\"/>\n</g>\n<!-- 7 -->\n<g id=\"node8\" class=\"node\">\n<title>7</title>\n<polygon fill=\"none\" stroke=\"black\" points=\"372.5,-468 154.5,-468 154.5,-432 372.5,-432 372.5,-468\"/>\n<text text-anchor=\"middle\" x=\"263.5\" y=\"-446.3\" font-family=\"Times,serif\" font-size=\"14.00\">data=4.000 | grad=120.000</text>\n</g>\n<!-- 7&#45;&gt;4 -->\n<g id=\"edge7\" class=\"edge\">\n<title>7&#45;&gt;4</title>\n<path fill=\"none\" stroke=\"black\" d=\"M262.15,-431.62C260.49,-401.04 260.24,-336.31 282.5,-288 288.15,-275.73 297.74,-264.39 306.94,-255.38\"/>\n<polygon fill=\"black\" stroke=\"black\" points=\"309.52,-257.76 314.48,-248.39 304.77,-252.62 309.52,-257.76\"/>\n</g>\n<!-- 7&#45;&gt;6 -->\n<g id=\"edge9\" class=\"edge\">\n<title>7&#45;&gt;6</title>\n<path fill=\"none\" stroke=\"black\" d=\"M297.01,-431.88C319.51,-420.38 348.89,-405.37 370.59,-394.28\"/>\n<polygon fill=\"black\" stroke=\"black\" points=\"372.36,-397.31 379.68,-389.64 369.18,-391.07 372.36,-397.31\"/>\n</g>\n<!-- 8 -->\n<g id=\"node9\" class=\"node\">\n<title>8</title>\n<polygon fill=\"none\" stroke=\"black\" points=\"600,-468 391,-468 391,-432 600,-432 600,-468\"/>\n<text text-anchor=\"middle\" x=\"495.5\" y=\"-446.3\" font-family=\"Times,serif\" font-size=\"14.00\">data=3.000 | grad=80.000</text>\n</g>\n<!-- 8&#45;&gt;6 -->\n<g id=\"edge8\" class=\"edge\">\n<title>8&#45;&gt;6</title>\n<path fill=\"none\" stroke=\"black\" d=\"M472.02,-431.7C458.18,-421.5 440.66,-408.59 426.43,-398.1\"/>\n<polygon fill=\"black\" stroke=\"black\" points=\"428.18,-395.05 418.05,-391.93 424.02,-400.68 428.18,-395.05\"/>\n</g>\n</g>\n</svg>\n",
      "text/plain": [
       "<graphviz.graphs.Digraph at 0x7feb706d83a0>"
      ]
     },
     "metadata": {},
     "output_type": "display_data"
    }
   ],
   "source": [
    "# the last thing left to do is to calculate backward pass automatically\n",
    "# in order to do that we need to traverse our expression tree in topological order\n",
    "\n",
    "# create a function\n",
    "x = Value(3)\n",
    "y = Value(4)\n",
    "z = Value(5)\n",
    "\n",
    "xy =  x * y\n",
    "\n",
    "zxyy = xy * y * z\n",
    " \n",
    "ValueBFS(zxyy)\n",
    "\n",
    "\n",
    "def backward(value):\n",
    "    assert isinstance(value, Value), \"Incorrect argument\"\n",
    "    visited = set()\n",
    "    topological_order = []\n",
    "    def visit(value):\n",
    "        if value in visited:\n",
    "            return\n",
    "        visited.add(value)\n",
    "        for child in value._children:\n",
    "            visit(child)\n",
    "        topological_order.append(value)\n",
    "    visit(value)\n",
    "    value.grad = 1\n",
    "    for val in reversed(topological_order):\n",
    "        val._backward()\n",
    "\n",
    "backward(zxyy)\n",
    "ValueBFS(zxyy)"
   ]
  },
  {
   "cell_type": "code",
   "execution_count": 323,
   "metadata": {},
   "outputs": [
    {
     "data": {
      "image/svg+xml": "<?xml version=\"1.0\" encoding=\"UTF-8\" standalone=\"no\"?>\n<!DOCTYPE svg PUBLIC \"-//W3C//DTD SVG 1.1//EN\"\n \"http://www.w3.org/Graphics/SVG/1.1/DTD/svg11.dtd\">\n<!-- Generated by graphviz version 2.43.0 (0)\n -->\n<!-- Title: %3 Pages: 1 -->\n<svg width=\"426pt\" height=\"332pt\"\n viewBox=\"0.00 0.00 426.00 332.00\" xmlns=\"http://www.w3.org/2000/svg\" xmlns:xlink=\"http://www.w3.org/1999/xlink\">\n<g id=\"graph0\" class=\"graph\" transform=\"scale(1 1) rotate(0) translate(4 328)\">\n<title>%3</title>\n<polygon fill=\"white\" stroke=\"transparent\" points=\"-4,4 -4,-328 422,-328 422,4 -4,4\"/>\n<!-- 0 -->\n<g id=\"node1\" class=\"node\">\n<title>0</title>\n<polygon fill=\"none\" stroke=\"black\" points=\"313.5,-36 104.5,-36 104.5,0 313.5,0 313.5,-36\"/>\n<text text-anchor=\"middle\" x=\"209\" y=\"-14.3\" font-family=\"Times,serif\" font-size=\"14.00\">data=12.000 | grad=1.000</text>\n</g>\n<!-- 1 -->\n<g id=\"node2\" class=\"node\">\n<title>1</title>\n<ellipse fill=\"none\" stroke=\"black\" cx=\"209\" cy=\"-90\" rx=\"27\" ry=\"18\"/>\n<text text-anchor=\"middle\" x=\"209\" y=\"-86.3\" font-family=\"Times,serif\" font-size=\"14.00\">+</text>\n</g>\n<!-- 1&#45;&gt;0 -->\n<g id=\"edge1\" class=\"edge\">\n<title>1&#45;&gt;0</title>\n<path fill=\"none\" stroke=\"black\" d=\"M209,-71.7C209,-63.98 209,-54.71 209,-46.11\"/>\n<polygon fill=\"black\" stroke=\"black\" points=\"212.5,-46.1 209,-36.1 205.5,-46.1 212.5,-46.1\"/>\n</g>\n<!-- 2 -->\n<g id=\"node3\" class=\"node\">\n<title>2</title>\n<polygon fill=\"none\" stroke=\"black\" points=\"200,-180 0,-180 0,-144 200,-144 200,-180\"/>\n<text text-anchor=\"middle\" x=\"100\" y=\"-158.3\" font-family=\"Times,serif\" font-size=\"14.00\">data=9.000 | grad=1.000</text>\n</g>\n<!-- 2&#45;&gt;1 -->\n<g id=\"edge3\" class=\"edge\">\n<title>2&#45;&gt;1</title>\n<path fill=\"none\" stroke=\"black\" d=\"M126.66,-143.88C143.26,-133.22 164.55,-119.54 181.33,-108.77\"/>\n<polygon fill=\"black\" stroke=\"black\" points=\"183.6,-111.47 190.13,-103.12 179.82,-105.58 183.6,-111.47\"/>\n</g>\n<!-- 3 -->\n<g id=\"node4\" class=\"node\">\n<title>3</title>\n<ellipse fill=\"none\" stroke=\"black\" cx=\"100\" cy=\"-234\" rx=\"27\" ry=\"18\"/>\n<text text-anchor=\"middle\" x=\"100\" y=\"-230.3\" font-family=\"Times,serif\" font-size=\"14.00\">**2</text>\n</g>\n<!-- 3&#45;&gt;2 -->\n<g id=\"edge2\" class=\"edge\">\n<title>3&#45;&gt;2</title>\n<path fill=\"none\" stroke=\"black\" d=\"M100,-215.7C100,-207.98 100,-198.71 100,-190.11\"/>\n<polygon fill=\"black\" stroke=\"black\" points=\"103.5,-190.1 100,-180.1 96.5,-190.1 103.5,-190.1\"/>\n</g>\n<!-- 4 -->\n<g id=\"node5\" class=\"node\">\n<title>4</title>\n<polygon fill=\"none\" stroke=\"black\" points=\"418,-180 218,-180 218,-144 418,-144 418,-180\"/>\n<text text-anchor=\"middle\" x=\"318\" y=\"-158.3\" font-family=\"Times,serif\" font-size=\"14.00\">data=3.000 | grad=1.000</text>\n</g>\n<!-- 4&#45;&gt;1 -->\n<g id=\"edge4\" class=\"edge\">\n<title>4&#45;&gt;1</title>\n<path fill=\"none\" stroke=\"black\" d=\"M291.34,-143.88C274.74,-133.22 253.45,-119.54 236.67,-108.77\"/>\n<polygon fill=\"black\" stroke=\"black\" points=\"238.18,-105.58 227.87,-103.12 234.4,-111.47 238.18,-105.58\"/>\n</g>\n<!-- 5 -->\n<g id=\"node6\" class=\"node\">\n<title>5</title>\n<polygon fill=\"none\" stroke=\"black\" points=\"200,-324 0,-324 0,-288 200,-288 200,-324\"/>\n<text text-anchor=\"middle\" x=\"100\" y=\"-302.3\" font-family=\"Times,serif\" font-size=\"14.00\">data=3.000 | grad=6.000</text>\n</g>\n<!-- 5&#45;&gt;3 -->\n<g id=\"edge5\" class=\"edge\">\n<title>5&#45;&gt;3</title>\n<path fill=\"none\" stroke=\"black\" d=\"M100,-287.7C100,-279.98 100,-270.71 100,-262.11\"/>\n<polygon fill=\"black\" stroke=\"black\" points=\"103.5,-262.1 100,-252.1 96.5,-262.1 103.5,-262.1\"/>\n</g>\n</g>\n</svg>\n",
      "text/plain": [
       "<graphviz.graphs.Digraph at 0x7feb70740a90>"
      ]
     },
     "metadata": {},
     "output_type": "display_data"
    }
   ],
   "source": [
    "# test pow\n",
    "\n",
    "x = Value(3) ** 2\n",
    "y = x + 3\n",
    "\n",
    "y.backward()\n",
    "ValueBFS(y)"
   ]
  },
  {
   "cell_type": "code",
   "execution_count": null,
   "metadata": {},
   "outputs": [],
   "source": [
    "# no we can create a neural net\n",
    "# let's try to create MLP (Multilayer Perceptron) with exactly one layer :)"
   ]
  }
 ],
 "metadata": {
  "kernelspec": {
   "display_name": "Python 3",
   "language": "python",
   "name": "python3"
  },
  "language_info": {
   "codemirror_mode": {
    "name": "ipython",
    "version": 3
   },
   "file_extension": ".py",
   "mimetype": "text/x-python",
   "name": "python",
   "nbconvert_exporter": "python",
   "pygments_lexer": "ipython3",
   "version": "3.10.7"
  },
  "orig_nbformat": 4,
  "vscode": {
   "interpreter": {
    "hash": "916dbcbb3f70747c44a77c7bcd40155683ae19c65e1c03b4aa3499c5328201f1"
   }
  }
 },
 "nbformat": 4,
 "nbformat_minor": 2
}
